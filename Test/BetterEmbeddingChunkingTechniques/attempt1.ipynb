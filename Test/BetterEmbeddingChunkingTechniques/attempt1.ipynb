{
 "cells": [
  {
   "cell_type": "code",
   "execution_count": 9,
   "metadata": {},
   "outputs": [
    {
     "data": {
      "text/plain": [
       "True"
      ]
     },
     "execution_count": 9,
     "metadata": {},
     "output_type": "execute_result"
    }
   ],
   "source": [
    "from dotenv import load_dotenv\n",
    "from langchain_community.document_loaders import UnstructuredMarkdownLoader,DirectoryLoader,PythonLoader,NotebookLoader,MergedDataLoader\n",
    "from langchain_chroma import Chroma\n",
    "from langchain_ollama import OllamaEmbeddings\n",
    "from langchain_text_splitters import RecursiveCharacterTextSplitter,TextSplitter,Language,PythonCodeTextSplitter,MarkdownTextSplitter\n",
    "from typing_extensions import List, TypedDict\n",
    "from langgraph.graph import START, StateGraph\n",
    "from langchain_core.prompts import PromptTemplate\n",
    "from langchain_core.documents import Document\n",
    "from langchain_google_genai import ChatGoogleGenerativeAI\n",
    "from rich import print\n",
    "load_dotenv()"
   ]
  },
  {
   "cell_type": "code",
   "execution_count": 10,
   "metadata": {},
   "outputs": [],
   "source": [
    "model_embedding = OllamaEmbeddings(model=\"nomic-embed-text:latest\")\n",
    "vectore_store = Chroma(embedding_function=model_embedding,persist_directory=\"./chromadb\")\n",
    "model= ChatGoogleGenerativeAI(model=\"gemini-1.5-flash\")"
   ]
  },
  {
   "cell_type": "code",
   "execution_count": 11,
   "metadata": {},
   "outputs": [],
   "source": [
    "project_folder_path =r\"C:\\Users\\roshan.yadav\\13thWonder\\the_special_nine_day\\Test\\BetterEmbeddingChunkingTechniques\\codebase\"\n",
    "\n",
    "markdown_loader = DirectoryLoader(\n",
    "    project_folder_path,\n",
    "    glob=\"**/*.md\",\n",
    "    loader_cls=UnstructuredMarkdownLoader,\n",
    ")\n",
    "\n",
    "python_loader = DirectoryLoader(\n",
    "    project_folder_path,\n",
    "    glob=\"**/*.py\",\n",
    "    loader_cls=PythonLoader,\n",
    ")\n",
    "\n",
    "notebook_loader = DirectoryLoader(\n",
    "    project_folder_path,\n",
    "    glob=\"**/*.ipynb\",\n",
    "    loader_cls=NotebookLoader,\n",
    ")\n",
    "\n",
    "loader = MergedDataLoader([markdown_loader,python_loader,notebook_loader])"
   ]
  },
  {
   "cell_type": "code",
   "execution_count": 12,
   "metadata": {},
   "outputs": [
    {
     "data": {
      "text/html": [
       "<pre style=\"white-space:pre;overflow-x:auto;line-height:normal;font-family:Menlo,'DejaVu Sans Mono',consolas,'Courier New',monospace\"><span style=\"font-weight: bold\">[</span><span style=\"color: #008000; text-decoration-color: #008000\">'\\nclass '</span>, <span style=\"color: #008000; text-decoration-color: #008000\">'\\ndef '</span>, <span style=\"color: #008000; text-decoration-color: #008000\">'\\n\\tdef '</span>, <span style=\"color: #008000; text-decoration-color: #008000\">'\\n\\n'</span>, <span style=\"color: #008000; text-decoration-color: #008000\">'\\n'</span>, <span style=\"color: #008000; text-decoration-color: #008000\">' '</span>, <span style=\"color: #008000; text-decoration-color: #008000\">''</span><span style=\"font-weight: bold\">]</span>\n",
       "</pre>\n"
      ],
      "text/plain": [
       "\u001b[1m[\u001b[0m\u001b[32m'\\nclass '\u001b[0m, \u001b[32m'\\ndef '\u001b[0m, \u001b[32m'\\n\\tdef '\u001b[0m, \u001b[32m'\\n\\n'\u001b[0m, \u001b[32m'\\n'\u001b[0m, \u001b[32m' '\u001b[0m, \u001b[32m''\u001b[0m\u001b[1m]\u001b[0m\n"
      ]
     },
     "metadata": {},
     "output_type": "display_data"
    },
    {
     "data": {
      "text/html": [
       "<pre style=\"white-space:pre;overflow-x:auto;line-height:normal;font-family:Menlo,'DejaVu Sans Mono',consolas,'Courier New',monospace\">import sqlite3\n",
       "import pyautogui\n",
       "import time\n",
       "import clipboard\n",
       "from pynput.keyboard import Key, Controller\n",
       "import colorama\n",
       "\n",
       "\n",
       "keyboard = <span style=\"color: #800080; text-decoration-color: #800080; font-weight: bold\">Controller</span><span style=\"font-weight: bold\">()</span>\n",
       "\n",
       "\n",
       "def <span style=\"color: #800080; text-decoration-color: #800080; font-weight: bold\">refresh_Page</span><span style=\"font-weight: bold\">()</span>:\n",
       "    refreshed = <span style=\"color: #800080; text-decoration-color: #800080; font-weight: bold\">pyautogui.locateOnScreen</span><span style=\"font-weight: bold\">(</span><span style=\"color: #008000; text-decoration-color: #008000\">\"images/refresh/refresh.png\"</span>, <span style=\"color: #808000; text-decoration-color: #808000\">confidence</span>=<span style=\"color: #008080; text-decoration-color: #008080; font-weight: bold\">0.8</span><span style=\"font-weight: bold\">)</span>\n",
       "    <span style=\"color: #800080; text-decoration-color: #800080; font-weight: bold\">pyautogui.click</span><span style=\"font-weight: bold\">(</span><span style=\"color: #808000; text-decoration-color: #808000\">x</span>=<span style=\"font-weight: bold\">(</span>refreshed<span style=\"font-weight: bold\">[</span><span style=\"color: #008080; text-decoration-color: #008080; font-weight: bold\">0</span><span style=\"font-weight: bold\">]</span> + <span style=\"color: #008080; text-decoration-color: #008080; font-weight: bold\">15</span><span style=\"font-weight: bold\">)</span>, <span style=\"color: #808000; text-decoration-color: #808000\">y</span>=<span style=\"font-weight: bold\">(</span>refreshed<span style=\"font-weight: bold\">[</span><span style=\"color: #008080; text-decoration-color: #008080; font-weight: bold\">1</span><span style=\"font-weight: bold\">]</span> + <span style=\"color: #008080; text-decoration-color: #008080; font-weight: bold\">13</span><span style=\"font-weight: bold\">))</span>\n",
       "</pre>\n"
      ],
      "text/plain": [
       "import sqlite3\n",
       "import pyautogui\n",
       "import time\n",
       "import clipboard\n",
       "from pynput.keyboard import Key, Controller\n",
       "import colorama\n",
       "\n",
       "\n",
       "keyboard = \u001b[1;35mController\u001b[0m\u001b[1m(\u001b[0m\u001b[1m)\u001b[0m\n",
       "\n",
       "\n",
       "def \u001b[1;35mrefresh_Page\u001b[0m\u001b[1m(\u001b[0m\u001b[1m)\u001b[0m:\n",
       "    refreshed = \u001b[1;35mpyautogui.locateOnScreen\u001b[0m\u001b[1m(\u001b[0m\u001b[32m\"images/refresh/refresh.png\"\u001b[0m, \u001b[33mconfidence\u001b[0m=\u001b[1;36m0\u001b[0m\u001b[1;36m.8\u001b[0m\u001b[1m)\u001b[0m\n",
       "    \u001b[1;35mpyautogui.click\u001b[0m\u001b[1m(\u001b[0m\u001b[33mx\u001b[0m=\u001b[1m(\u001b[0mrefreshed\u001b[1m[\u001b[0m\u001b[1;36m0\u001b[0m\u001b[1m]\u001b[0m + \u001b[1;36m15\u001b[0m\u001b[1m)\u001b[0m, \u001b[33my\u001b[0m=\u001b[1m(\u001b[0mrefreshed\u001b[1m[\u001b[0m\u001b[1;36m1\u001b[0m\u001b[1m]\u001b[0m + \u001b[1;36m13\u001b[0m\u001b[1m)\u001b[0m\u001b[1m)\u001b[0m\n"
      ]
     },
     "metadata": {},
     "output_type": "display_data"
    },
    {
     "data": {
      "text/html": [
       "<pre style=\"white-space:pre;overflow-x:auto;line-height:normal;font-family:Menlo,'DejaVu Sans Mono',consolas,'Courier New',monospace\">----------------\n",
       "</pre>\n"
      ],
      "text/plain": [
       "----------------\n"
      ]
     },
     "metadata": {},
     "output_type": "display_data"
    },
    {
     "data": {
      "text/html": [
       "<pre style=\"white-space:pre;overflow-x:auto;line-height:normal;font-family:Menlo,'DejaVu Sans Mono',consolas,'Courier New',monospace\">def <span style=\"color: #800080; text-decoration-color: #800080; font-weight: bold\">refresh_Check</span><span style=\"font-weight: bold\">()</span>:\n",
       "    a = <span style=\"color: #800080; text-decoration-color: #800080; font-weight: bold\">pyautogui.locateOnScreen</span><span style=\"font-weight: bold\">(</span><span style=\"color: #008000; text-decoration-color: #008000\">\"images/refresh/window.png\"</span>, <span style=\"color: #808000; text-decoration-color: #808000\">confidence</span>=<span style=\"color: #008080; text-decoration-color: #008080; font-weight: bold\">0.5</span><span style=\"font-weight: bold\">)</span>\n",
       "    b = <span style=\"color: #800080; text-decoration-color: #800080; font-weight: bold\">pyautogui.locateOnScreen</span><span style=\"font-weight: bold\">(</span><span style=\"color: #008000; text-decoration-color: #008000\">\"images/refresh/windowC.png\"</span>, <span style=\"color: #808000; text-decoration-color: #808000\">confidence</span>=<span style=\"color: #008080; text-decoration-color: #008080; font-weight: bold\">0.5</span><span style=\"font-weight: bold\">)</span>\n",
       "    if a or b:\n",
       "        return <span style=\"color: #00ff00; text-decoration-color: #00ff00; font-style: italic\">True</span>\n",
       "    else:\n",
       "        return <span style=\"color: #ff0000; text-decoration-color: #ff0000; font-style: italic\">False</span>\n",
       "</pre>\n"
      ],
      "text/plain": [
       "def \u001b[1;35mrefresh_Check\u001b[0m\u001b[1m(\u001b[0m\u001b[1m)\u001b[0m:\n",
       "    a = \u001b[1;35mpyautogui.locateOnScreen\u001b[0m\u001b[1m(\u001b[0m\u001b[32m\"images/refresh/window.png\"\u001b[0m, \u001b[33mconfidence\u001b[0m=\u001b[1;36m0\u001b[0m\u001b[1;36m.5\u001b[0m\u001b[1m)\u001b[0m\n",
       "    b = \u001b[1;35mpyautogui.locateOnScreen\u001b[0m\u001b[1m(\u001b[0m\u001b[32m\"images/refresh/windowC.png\"\u001b[0m, \u001b[33mconfidence\u001b[0m=\u001b[1;36m0\u001b[0m\u001b[1;36m.5\u001b[0m\u001b[1m)\u001b[0m\n",
       "    if a or b:\n",
       "        return \u001b[3;92mTrue\u001b[0m\n",
       "    else:\n",
       "        return \u001b[3;91mFalse\u001b[0m\n"
      ]
     },
     "metadata": {},
     "output_type": "display_data"
    },
    {
     "data": {
      "text/html": [
       "<pre style=\"white-space:pre;overflow-x:auto;line-height:normal;font-family:Menlo,'DejaVu Sans Mono',consolas,'Courier New',monospace\">----------------\n",
       "</pre>\n"
      ],
      "text/plain": [
       "----------------\n"
      ]
     },
     "metadata": {},
     "output_type": "display_data"
    },
    {
     "data": {
      "text/html": [
       "<pre style=\"white-space:pre;overflow-x:auto;line-height:normal;font-family:Menlo,'DejaVu Sans Mono',consolas,'Courier New',monospace\">def <span style=\"color: #800080; text-decoration-color: #800080; font-weight: bold\">Refresh</span><span style=\"font-weight: bold\">()</span>:\n",
       "    a = <span style=\"color: #008080; text-decoration-color: #008080; font-weight: bold\">0</span>\n",
       "    process = <span style=\"color: #ff0000; text-decoration-color: #ff0000; font-style: italic\">False</span>\n",
       "    while not process:\n",
       "        if a % <span style=\"color: #008080; text-decoration-color: #008080; font-weight: bold\">5</span> == <span style=\"color: #008080; text-decoration-color: #008080; font-weight: bold\">0</span>:\n",
       "            <span style=\"color: #800080; text-decoration-color: #800080; font-weight: bold\">refresh_Page</span><span style=\"font-weight: bold\">()</span>\n",
       "        process = <span style=\"color: #800080; text-decoration-color: #800080; font-weight: bold\">refresh_Check</span><span style=\"font-weight: bold\">()</span>\n",
       "        a += <span style=\"color: #008080; text-decoration-color: #008080; font-weight: bold\">1</span>\n",
       "        <span style=\"color: #800080; text-decoration-color: #800080; font-weight: bold\">time.sleep</span><span style=\"font-weight: bold\">(</span><span style=\"color: #008080; text-decoration-color: #008080; font-weight: bold\">1</span><span style=\"font-weight: bold\">)</span>\n",
       "    return <span style=\"color: #00ff00; text-decoration-color: #00ff00; font-style: italic\">True</span>\n",
       "</pre>\n"
      ],
      "text/plain": [
       "def \u001b[1;35mRefresh\u001b[0m\u001b[1m(\u001b[0m\u001b[1m)\u001b[0m:\n",
       "    a = \u001b[1;36m0\u001b[0m\n",
       "    process = \u001b[3;91mFalse\u001b[0m\n",
       "    while not process:\n",
       "        if a % \u001b[1;36m5\u001b[0m == \u001b[1;36m0\u001b[0m:\n",
       "            \u001b[1;35mrefresh_Page\u001b[0m\u001b[1m(\u001b[0m\u001b[1m)\u001b[0m\n",
       "        process = \u001b[1;35mrefresh_Check\u001b[0m\u001b[1m(\u001b[0m\u001b[1m)\u001b[0m\n",
       "        a += \u001b[1;36m1\u001b[0m\n",
       "        \u001b[1;35mtime.sleep\u001b[0m\u001b[1m(\u001b[0m\u001b[1;36m1\u001b[0m\u001b[1m)\u001b[0m\n",
       "    return \u001b[3;92mTrue\u001b[0m\n"
      ]
     },
     "metadata": {},
     "output_type": "display_data"
    },
    {
     "data": {
      "text/html": [
       "<pre style=\"white-space:pre;overflow-x:auto;line-height:normal;font-family:Menlo,'DejaVu Sans Mono',consolas,'Courier New',monospace\">----------------\n",
       "</pre>\n"
      ],
      "text/plain": [
       "----------------\n"
      ]
     },
     "metadata": {},
     "output_type": "display_data"
    },
    {
     "data": {
      "text/html": [
       "<pre style=\"white-space:pre;overflow-x:auto;line-height:normal;font-family:Menlo,'DejaVu Sans Mono',consolas,'Courier New',monospace\">def <span style=\"color: #800080; text-decoration-color: #800080; font-weight: bold\">Write</span><span style=\"font-weight: bold\">(</span>data<span style=\"font-weight: bold\">)</span>:\n",
       "    a = <span style=\"color: #800080; text-decoration-color: #800080; font-weight: bold\">pyautogui.locateOnScreen</span><span style=\"font-weight: bold\">(</span><span style=\"color: #008000; text-decoration-color: #008000\">\"images/keyboard.png\"</span>, <span style=\"color: #808000; text-decoration-color: #808000\">confidence</span>=<span style=\"color: #008080; text-decoration-color: #008080; font-weight: bold\">0.6</span><span style=\"font-weight: bold\">)</span>\n",
       "    <span style=\"color: #800080; text-decoration-color: #800080; font-weight: bold\">pyautogui.click</span><span style=\"font-weight: bold\">(</span>a<span style=\"font-weight: bold\">[</span><span style=\"color: #008080; text-decoration-color: #008080; font-weight: bold\">0</span><span style=\"font-weight: bold\">]</span>, a<span style=\"font-weight: bold\">[</span><span style=\"color: #008080; text-decoration-color: #008080; font-weight: bold\">1</span><span style=\"font-weight: bold\">]</span> - <span style=\"color: #008080; text-decoration-color: #008080; font-weight: bold\">30</span><span style=\"font-weight: bold\">)</span>\n",
       "    <span style=\"color: #800080; text-decoration-color: #800080; font-weight: bold\">pyautogui.write</span><span style=\"font-weight: bold\">(</span>f\"<span style=\"font-weight: bold\">{</span>data<span style=\"font-weight: bold\">}</span>\"<span style=\"font-weight: bold\">)</span>\n",
       "    <span style=\"color: #800080; text-decoration-color: #800080; font-weight: bold\">keyboard.press</span><span style=\"font-weight: bold\">(</span>Key.enter<span style=\"font-weight: bold\">)</span>\n",
       "    <span style=\"color: #800080; text-decoration-color: #800080; font-weight: bold\">keyboard.release</span><span style=\"font-weight: bold\">(</span>Key.enter<span style=\"font-weight: bold\">)</span>\n",
       "</pre>\n"
      ],
      "text/plain": [
       "def \u001b[1;35mWrite\u001b[0m\u001b[1m(\u001b[0mdata\u001b[1m)\u001b[0m:\n",
       "    a = \u001b[1;35mpyautogui.locateOnScreen\u001b[0m\u001b[1m(\u001b[0m\u001b[32m\"images/keyboard.png\"\u001b[0m, \u001b[33mconfidence\u001b[0m=\u001b[1;36m0\u001b[0m\u001b[1;36m.6\u001b[0m\u001b[1m)\u001b[0m\n",
       "    \u001b[1;35mpyautogui.click\u001b[0m\u001b[1m(\u001b[0ma\u001b[1m[\u001b[0m\u001b[1;36m0\u001b[0m\u001b[1m]\u001b[0m, a\u001b[1m[\u001b[0m\u001b[1;36m1\u001b[0m\u001b[1m]\u001b[0m - \u001b[1;36m30\u001b[0m\u001b[1m)\u001b[0m\n",
       "    \u001b[1;35mpyautogui.write\u001b[0m\u001b[1m(\u001b[0mf\"\u001b[1m{\u001b[0mdata\u001b[1m}\u001b[0m\"\u001b[1m)\u001b[0m\n",
       "    \u001b[1;35mkeyboard.press\u001b[0m\u001b[1m(\u001b[0mKey.enter\u001b[1m)\u001b[0m\n",
       "    \u001b[1;35mkeyboard.release\u001b[0m\u001b[1m(\u001b[0mKey.enter\u001b[1m)\u001b[0m\n"
      ]
     },
     "metadata": {},
     "output_type": "display_data"
    },
    {
     "data": {
      "text/html": [
       "<pre style=\"white-space:pre;overflow-x:auto;line-height:normal;font-family:Menlo,'DejaVu Sans Mono',consolas,'Courier New',monospace\">----------------\n",
       "</pre>\n"
      ],
      "text/plain": [
       "----------------\n"
      ]
     },
     "metadata": {},
     "output_type": "display_data"
    },
    {
     "data": {
      "text/html": [
       "<pre style=\"white-space:pre;overflow-x:auto;line-height:normal;font-family:Menlo,'DejaVu Sans Mono',consolas,'Courier New',monospace\">def <span style=\"color: #800080; text-decoration-color: #800080; font-weight: bold\">copy</span><span style=\"font-weight: bold\">()</span>:\n",
       "    a = <span style=\"color: #ff0000; text-decoration-color: #ff0000; font-style: italic\">False</span>\n",
       "    while not a:\n",
       "        try:\n",
       "            Blue = <span style=\"color: #800080; text-decoration-color: #800080; font-weight: bold\">pyautogui.locateOnScreen</span><span style=\"font-weight: bold\">(</span><span style=\"color: #008000; text-decoration-color: #008000\">\"images/copyBlue.png\"</span>, <span style=\"color: #808000; text-decoration-color: #808000\">confidence</span>=<span style=\"color: #008080; text-decoration-color: #008080; font-weight: bold\">0.9</span><span style=\"font-weight: bold\">)</span>\n",
       "            Black = <span style=\"color: #800080; text-decoration-color: #800080; font-weight: bold\">pyautogui.locateOnScreen</span><span style=\"font-weight: bold\">(</span><span style=\"color: #008000; text-decoration-color: #008000\">\"images/copyBlack.png\"</span>, <span style=\"color: #808000; text-decoration-color: #808000\">confidence</span>=<span style=\"color: #008080; text-decoration-color: #008080; font-weight: bold\">0.9</span><span style=\"font-weight: bold\">)</span>\n",
       "            if Blue == <span style=\"color: #800080; text-decoration-color: #800080; font-style: italic\">None</span>:\n",
       "                a = Black<span style=\"font-weight: bold\">[</span><span style=\"color: #00ff00; text-decoration-color: #00ff00; font-weight: bold\">0:2</span><span style=\"font-weight: bold\">]</span>\n",
       "            else:\n",
       "                a = Blue<span style=\"font-weight: bold\">[</span><span style=\"color: #00ff00; text-decoration-color: #00ff00; font-weight: bold\">0:2</span><span style=\"font-weight: bold\">]</span>\n",
       "</pre>\n"
      ],
      "text/plain": [
       "def \u001b[1;35mcopy\u001b[0m\u001b[1m(\u001b[0m\u001b[1m)\u001b[0m:\n",
       "    a = \u001b[3;91mFalse\u001b[0m\n",
       "    while not a:\n",
       "        try:\n",
       "            Blue = \u001b[1;35mpyautogui.locateOnScreen\u001b[0m\u001b[1m(\u001b[0m\u001b[32m\"images/copyBlue.png\"\u001b[0m, \u001b[33mconfidence\u001b[0m=\u001b[1;36m0\u001b[0m\u001b[1;36m.9\u001b[0m\u001b[1m)\u001b[0m\n",
       "            Black = \u001b[1;35mpyautogui.locateOnScreen\u001b[0m\u001b[1m(\u001b[0m\u001b[32m\"images/copyBlack.png\"\u001b[0m, \u001b[33mconfidence\u001b[0m=\u001b[1;36m0\u001b[0m\u001b[1;36m.9\u001b[0m\u001b[1m)\u001b[0m\n",
       "            if Blue == \u001b[3;35mNone\u001b[0m:\n",
       "                a = Black\u001b[1m[\u001b[0m\u001b[1;92m0:2\u001b[0m\u001b[1m]\u001b[0m\n",
       "            else:\n",
       "                a = Blue\u001b[1m[\u001b[0m\u001b[1;92m0:2\u001b[0m\u001b[1m]\u001b[0m\n"
      ]
     },
     "metadata": {},
     "output_type": "display_data"
    },
    {
     "data": {
      "text/html": [
       "<pre style=\"white-space:pre;overflow-x:auto;line-height:normal;font-family:Menlo,'DejaVu Sans Mono',consolas,'Courier New',monospace\">----------------\n",
       "</pre>\n"
      ],
      "text/plain": [
       "----------------\n"
      ]
     },
     "metadata": {},
     "output_type": "display_data"
    },
    {
     "data": {
      "text/html": [
       "<pre style=\"white-space:pre;overflow-x:auto;line-height:normal;font-family:Menlo,'DejaVu Sans Mono',consolas,'Courier New',monospace\">if Blue == <span style=\"color: #800080; text-decoration-color: #800080; font-style: italic\">None</span>:\n",
       "                a = Black<span style=\"font-weight: bold\">[</span><span style=\"color: #00ff00; text-decoration-color: #00ff00; font-weight: bold\">0:2</span><span style=\"font-weight: bold\">]</span>\n",
       "            else:\n",
       "                a = Blue<span style=\"font-weight: bold\">[</span><span style=\"color: #00ff00; text-decoration-color: #00ff00; font-weight: bold\">0:2</span><span style=\"font-weight: bold\">]</span>\n",
       "            <span style=\"color: #800080; text-decoration-color: #800080; font-weight: bold\">pyautogui.click</span><span style=\"font-weight: bold\">(</span><span style=\"color: #808000; text-decoration-color: #808000\">x</span>=<span style=\"color: #800080; text-decoration-color: #800080\">a</span><span style=\"font-weight: bold\">[</span><span style=\"color: #008080; text-decoration-color: #008080; font-weight: bold\">0</span><span style=\"font-weight: bold\">]</span> + <span style=\"color: #008080; text-decoration-color: #008080; font-weight: bold\">15</span>, <span style=\"color: #808000; text-decoration-color: #808000\">y</span>=<span style=\"color: #800080; text-decoration-color: #800080\">a</span><span style=\"font-weight: bold\">[</span><span style=\"color: #008080; text-decoration-color: #008080; font-weight: bold\">1</span><span style=\"font-weight: bold\">]</span> + <span style=\"color: #008080; text-decoration-color: #008080; font-weight: bold\">15</span><span style=\"font-weight: bold\">)</span>\n",
       "            a = <span style=\"color: #00ff00; text-decoration-color: #00ff00; font-style: italic\">True</span>\n",
       "        except:\n",
       "            continue\n",
       "</pre>\n"
      ],
      "text/plain": [
       "if Blue == \u001b[3;35mNone\u001b[0m:\n",
       "                a = Black\u001b[1m[\u001b[0m\u001b[1;92m0:2\u001b[0m\u001b[1m]\u001b[0m\n",
       "            else:\n",
       "                a = Blue\u001b[1m[\u001b[0m\u001b[1;92m0:2\u001b[0m\u001b[1m]\u001b[0m\n",
       "            \u001b[1;35mpyautogui.click\u001b[0m\u001b[1m(\u001b[0m\u001b[33mx\u001b[0m=\u001b[35ma\u001b[0m\u001b[1m[\u001b[0m\u001b[1;36m0\u001b[0m\u001b[1m]\u001b[0m + \u001b[1;36m15\u001b[0m, \u001b[33my\u001b[0m=\u001b[35ma\u001b[0m\u001b[1m[\u001b[0m\u001b[1;36m1\u001b[0m\u001b[1m]\u001b[0m + \u001b[1;36m15\u001b[0m\u001b[1m)\u001b[0m\n",
       "            a = \u001b[3;92mTrue\u001b[0m\n",
       "        except:\n",
       "            continue\n"
      ]
     },
     "metadata": {},
     "output_type": "display_data"
    },
    {
     "data": {
      "text/html": [
       "<pre style=\"white-space:pre;overflow-x:auto;line-height:normal;font-family:Menlo,'DejaVu Sans Mono',consolas,'Courier New',monospace\">----------------\n",
       "</pre>\n"
      ],
      "text/plain": [
       "----------------\n"
      ]
     },
     "metadata": {},
     "output_type": "display_data"
    },
    {
     "data": {
      "text/html": [
       "<pre style=\"white-space:pre;overflow-x:auto;line-height:normal;font-family:Menlo,'DejaVu Sans Mono',consolas,'Courier New',monospace\">def <span style=\"color: #800080; text-decoration-color: #800080; font-weight: bold\">removetext</span><span style=\"font-weight: bold\">()</span>:\n",
       "    a = <span style=\"color: #800080; text-decoration-color: #800080; font-weight: bold\">pyautogui.locateOnScreen</span><span style=\"font-weight: bold\">(</span><span style=\"color: #008000; text-decoration-color: #008000\">\"images/cross.png\"</span>, <span style=\"color: #808000; text-decoration-color: #808000\">confidence</span>=<span style=\"color: #008080; text-decoration-color: #008080; font-weight: bold\">0.9</span><span style=\"font-weight: bold\">)</span>\n",
       "    if a != <span style=\"color: #800080; text-decoration-color: #800080; font-style: italic\">None</span>:\n",
       "        <span style=\"color: #800080; text-decoration-color: #800080; font-weight: bold\">pyautogui.click</span><span style=\"font-weight: bold\">(</span>a<span style=\"font-weight: bold\">[</span><span style=\"color: #008080; text-decoration-color: #008080; font-weight: bold\">0</span><span style=\"font-weight: bold\">]</span> + <span style=\"color: #008080; text-decoration-color: #008080; font-weight: bold\">15</span>, a<span style=\"font-weight: bold\">[</span><span style=\"color: #008080; text-decoration-color: #008080; font-weight: bold\">1</span><span style=\"font-weight: bold\">]</span> + <span style=\"color: #008080; text-decoration-color: #008080; font-weight: bold\">10</span><span style=\"font-weight: bold\">)</span>\n",
       "\n",
       "\n",
       "conn = <span style=\"color: #800080; text-decoration-color: #800080; font-weight: bold\">sqlite3.connect</span><span style=\"font-weight: bold\">(</span><span style=\"color: #008000; text-decoration-color: #008000\">\"Dictionary.db\"</span><span style=\"font-weight: bold\">)</span>\n",
       "c = <span style=\"color: #800080; text-decoration-color: #800080; font-weight: bold\">conn.cursor</span><span style=\"font-weight: bold\">()</span>\n",
       "\n",
       "<span style=\"color: #800080; text-decoration-color: #800080; font-weight: bold\">c.execute</span><span style=\"font-weight: bold\">(</span><span style=\"color: #008000; text-decoration-color: #008000\">\"SELECT `key`, valueHin FROM dictionary\"</span><span style=\"font-weight: bold\">)</span>\n",
       "data = <span style=\"color: #800080; text-decoration-color: #800080; font-weight: bold\">c.fetchall</span><span style=\"font-weight: bold\">()</span>\n",
       "</pre>\n"
      ],
      "text/plain": [
       "def \u001b[1;35mremovetext\u001b[0m\u001b[1m(\u001b[0m\u001b[1m)\u001b[0m:\n",
       "    a = \u001b[1;35mpyautogui.locateOnScreen\u001b[0m\u001b[1m(\u001b[0m\u001b[32m\"images/cross.png\"\u001b[0m, \u001b[33mconfidence\u001b[0m=\u001b[1;36m0\u001b[0m\u001b[1;36m.9\u001b[0m\u001b[1m)\u001b[0m\n",
       "    if a != \u001b[3;35mNone\u001b[0m:\n",
       "        \u001b[1;35mpyautogui.click\u001b[0m\u001b[1m(\u001b[0ma\u001b[1m[\u001b[0m\u001b[1;36m0\u001b[0m\u001b[1m]\u001b[0m + \u001b[1;36m15\u001b[0m, a\u001b[1m[\u001b[0m\u001b[1;36m1\u001b[0m\u001b[1m]\u001b[0m + \u001b[1;36m10\u001b[0m\u001b[1m)\u001b[0m\n",
       "\n",
       "\n",
       "conn = \u001b[1;35msqlite3.connect\u001b[0m\u001b[1m(\u001b[0m\u001b[32m\"Dictionary.db\"\u001b[0m\u001b[1m)\u001b[0m\n",
       "c = \u001b[1;35mconn.cursor\u001b[0m\u001b[1m(\u001b[0m\u001b[1m)\u001b[0m\n",
       "\n",
       "\u001b[1;35mc.execute\u001b[0m\u001b[1m(\u001b[0m\u001b[32m\"SELECT `key`, valueHin FROM dictionary\"\u001b[0m\u001b[1m)\u001b[0m\n",
       "data = \u001b[1;35mc.fetchall\u001b[0m\u001b[1m(\u001b[0m\u001b[1m)\u001b[0m\n"
      ]
     },
     "metadata": {},
     "output_type": "display_data"
    },
    {
     "data": {
      "text/html": [
       "<pre style=\"white-space:pre;overflow-x:auto;line-height:normal;font-family:Menlo,'DejaVu Sans Mono',consolas,'Courier New',monospace\">----------------\n",
       "</pre>\n"
      ],
      "text/plain": [
       "----------------\n"
      ]
     },
     "metadata": {},
     "output_type": "display_data"
    },
    {
     "data": {
      "text/html": [
       "<pre style=\"white-space:pre;overflow-x:auto;line-height:normal;font-family:Menlo,'DejaVu Sans Mono',consolas,'Courier New',monospace\">for i, x in <span style=\"color: #800080; text-decoration-color: #800080; font-weight: bold\">enumerate</span><span style=\"font-weight: bold\">(</span>data<span style=\"font-weight: bold\">)</span>:\n",
       "    if x<span style=\"font-weight: bold\">[</span><span style=\"color: #008080; text-decoration-color: #008080; font-weight: bold\">1</span><span style=\"font-weight: bold\">]</span> == <span style=\"color: #800080; text-decoration-color: #800080; font-style: italic\">None</span> or x<span style=\"font-weight: bold\">[</span><span style=\"color: #008080; text-decoration-color: #008080; font-weight: bold\">1</span><span style=\"font-weight: bold\">]</span> == <span style=\"color: #008000; text-decoration-color: #008000\">\"None\"</span>:\n",
       "        if i % <span style=\"color: #008080; text-decoration-color: #008080; font-weight: bold\">20</span> == <span style=\"color: #008080; text-decoration-color: #008080; font-weight: bold\">0</span>:\n",
       "            <span style=\"color: #800080; text-decoration-color: #800080; font-weight: bold\">print</span><span style=\"font-weight: bold\">(</span>colorama.Fore.BLUE + f\"<span style=\"font-weight: bold\">{</span>i<span style=\"font-weight: bold\">}</span> Refreshing<span style=\"color: #808000; text-decoration-color: #808000\">...</span><span style=\"color: #008000; text-decoration-color: #008000\">\", end=\"</span>\"<span style=\"font-weight: bold\">)</span>\n",
       "            <span style=\"color: #800080; text-decoration-color: #800080; font-weight: bold\">conn.close</span><span style=\"font-weight: bold\">()</span>\n",
       "            <span style=\"color: #800080; text-decoration-color: #800080; font-weight: bold\">Refresh</span><span style=\"font-weight: bold\">()</span>\n",
       "            <span style=\"color: #800080; text-decoration-color: #800080; font-weight: bold\">print</span><span style=\"font-weight: bold\">(</span>colorama.Fore.GREEN + f\"Done\", <span style=\"color: #808000; text-decoration-color: #808000\">sep</span>=<span style=\"color: #800080; text-decoration-color: #800080\">colorama</span>.Style.RESET_ALL<span style=\"font-weight: bold\">)</span>\n",
       "        <span style=\"color: #800080; text-decoration-color: #800080; font-weight: bold\">removetext</span><span style=\"font-weight: bold\">()</span>\n",
       "</pre>\n"
      ],
      "text/plain": [
       "for i, x in \u001b[1;35menumerate\u001b[0m\u001b[1m(\u001b[0mdata\u001b[1m)\u001b[0m:\n",
       "    if x\u001b[1m[\u001b[0m\u001b[1;36m1\u001b[0m\u001b[1m]\u001b[0m == \u001b[3;35mNone\u001b[0m or x\u001b[1m[\u001b[0m\u001b[1;36m1\u001b[0m\u001b[1m]\u001b[0m == \u001b[32m\"None\"\u001b[0m:\n",
       "        if i % \u001b[1;36m20\u001b[0m == \u001b[1;36m0\u001b[0m:\n",
       "            \u001b[1;35mprint\u001b[0m\u001b[1m(\u001b[0mcolorama.Fore.BLUE + f\"\u001b[1m{\u001b[0mi\u001b[1m}\u001b[0m Refreshing\u001b[33m...\u001b[0m\u001b[32m\", \u001b[0m\u001b[32mend\u001b[0m\u001b[32m=\"\u001b[0m\"\u001b[1m)\u001b[0m\n",
       "            \u001b[1;35mconn.close\u001b[0m\u001b[1m(\u001b[0m\u001b[1m)\u001b[0m\n",
       "            \u001b[1;35mRefresh\u001b[0m\u001b[1m(\u001b[0m\u001b[1m)\u001b[0m\n",
       "            \u001b[1;35mprint\u001b[0m\u001b[1m(\u001b[0mcolorama.Fore.GREEN + f\"Done\", \u001b[33msep\u001b[0m=\u001b[35mcolorama\u001b[0m.Style.RESET_ALL\u001b[1m)\u001b[0m\n",
       "        \u001b[1;35mremovetext\u001b[0m\u001b[1m(\u001b[0m\u001b[1m)\u001b[0m\n"
      ]
     },
     "metadata": {},
     "output_type": "display_data"
    },
    {
     "data": {
      "text/html": [
       "<pre style=\"white-space:pre;overflow-x:auto;line-height:normal;font-family:Menlo,'DejaVu Sans Mono',consolas,'Courier New',monospace\">----------------\n",
       "</pre>\n"
      ],
      "text/plain": [
       "----------------\n"
      ]
     },
     "metadata": {},
     "output_type": "display_data"
    },
    {
     "data": {
      "text/html": [
       "<pre style=\"white-space:pre;overflow-x:auto;line-height:normal;font-family:Menlo,'DejaVu Sans Mono',consolas,'Courier New',monospace\"><span style=\"color: #800080; text-decoration-color: #800080; font-weight: bold\">conn.close</span><span style=\"font-weight: bold\">()</span>\n",
       "            <span style=\"color: #800080; text-decoration-color: #800080; font-weight: bold\">Refresh</span><span style=\"font-weight: bold\">()</span>\n",
       "            <span style=\"color: #800080; text-decoration-color: #800080; font-weight: bold\">print</span><span style=\"font-weight: bold\">(</span>colorama.Fore.GREEN + f\"Done\", <span style=\"color: #808000; text-decoration-color: #808000\">sep</span>=<span style=\"color: #800080; text-decoration-color: #800080\">colorama</span>.Style.RESET_ALL<span style=\"font-weight: bold\">)</span>\n",
       "        <span style=\"color: #800080; text-decoration-color: #800080; font-weight: bold\">removetext</span><span style=\"font-weight: bold\">()</span>\n",
       "        <span style=\"color: #800080; text-decoration-color: #800080; font-weight: bold\">print</span><span style=\"font-weight: bold\">(</span>colorama.Fore.RED + f\"<span style=\"font-weight: bold\">{</span>i<span style=\"font-weight: bold\">}</span> Writing<span style=\"color: #808000; text-decoration-color: #808000\">...</span><span style=\"color: #008000; text-decoration-color: #008000\">\", \"\", sep=colorama.Style.RESET_ALL, end=\"</span>\",<span style=\"font-weight: bold\">)</span>\n",
       "        <span style=\"color: #800080; text-decoration-color: #800080; font-weight: bold\">Write</span><span style=\"font-weight: bold\">(</span>f\"<span style=\"font-weight: bold\">{</span>x<span style=\"font-weight: bold\">[</span><span style=\"color: #008080; text-decoration-color: #008080; font-weight: bold\">0</span><span style=\"font-weight: bold\">]}</span>\"<span style=\"font-weight: bold\">)</span>\n",
       "        <span style=\"color: #800080; text-decoration-color: #800080; font-weight: bold\">print</span><span style=\"font-weight: bold\">(</span>colorama.Fore.GREEN + f\"Done <span style=\"color: #800080; text-decoration-color: #800080\">/</span> <span style=\"color: #008000; text-decoration-color: #008000\">\", sep=colorama.Style.RESET_ALL, end=\"</span>\"<span style=\"font-weight: bold\">)</span>\n",
       "</pre>\n"
      ],
      "text/plain": [
       "\u001b[1;35mconn.close\u001b[0m\u001b[1m(\u001b[0m\u001b[1m)\u001b[0m\n",
       "            \u001b[1;35mRefresh\u001b[0m\u001b[1m(\u001b[0m\u001b[1m)\u001b[0m\n",
       "            \u001b[1;35mprint\u001b[0m\u001b[1m(\u001b[0mcolorama.Fore.GREEN + f\"Done\", \u001b[33msep\u001b[0m=\u001b[35mcolorama\u001b[0m.Style.RESET_ALL\u001b[1m)\u001b[0m\n",
       "        \u001b[1;35mremovetext\u001b[0m\u001b[1m(\u001b[0m\u001b[1m)\u001b[0m\n",
       "        \u001b[1;35mprint\u001b[0m\u001b[1m(\u001b[0mcolorama.Fore.RED + f\"\u001b[1m{\u001b[0mi\u001b[1m}\u001b[0m Writing\u001b[33m...\u001b[0m\u001b[32m\", \"\u001b[0m\u001b[32m\", \u001b[0m\u001b[32msep\u001b[0m\u001b[32m=\u001b[0m\u001b[32mcolorama\u001b[0m\u001b[32m.Style.RESET_ALL, \u001b[0m\u001b[32mend\u001b[0m\u001b[32m=\"\u001b[0m\",\u001b[1m)\u001b[0m\n",
       "        \u001b[1;35mWrite\u001b[0m\u001b[1m(\u001b[0mf\"\u001b[1m{\u001b[0mx\u001b[1m[\u001b[0m\u001b[1;36m0\u001b[0m\u001b[1m]\u001b[0m\u001b[1m}\u001b[0m\"\u001b[1m)\u001b[0m\n",
       "        \u001b[1;35mprint\u001b[0m\u001b[1m(\u001b[0mcolorama.Fore.GREEN + f\"Done \u001b[35m/\u001b[0m \u001b[32m\", \u001b[0m\u001b[32msep\u001b[0m\u001b[32m=\u001b[0m\u001b[32mcolorama\u001b[0m\u001b[32m.Style.RESET_ALL, \u001b[0m\u001b[32mend\u001b[0m\u001b[32m=\"\u001b[0m\"\u001b[1m)\u001b[0m\n"
      ]
     },
     "metadata": {},
     "output_type": "display_data"
    },
    {
     "data": {
      "text/html": [
       "<pre style=\"white-space:pre;overflow-x:auto;line-height:normal;font-family:Menlo,'DejaVu Sans Mono',consolas,'Courier New',monospace\">----------------\n",
       "</pre>\n"
      ],
      "text/plain": [
       "----------------\n"
      ]
     },
     "metadata": {},
     "output_type": "display_data"
    },
    {
     "data": {
      "text/html": [
       "<pre style=\"white-space:pre;overflow-x:auto;line-height:normal;font-family:Menlo,'DejaVu Sans Mono',consolas,'Courier New',monospace\"><span style=\"color: #800080; text-decoration-color: #800080; font-weight: bold\">Write</span><span style=\"font-weight: bold\">(</span>f\"<span style=\"font-weight: bold\">{</span>x<span style=\"font-weight: bold\">[</span><span style=\"color: #008080; text-decoration-color: #008080; font-weight: bold\">0</span><span style=\"font-weight: bold\">]}</span>\"<span style=\"font-weight: bold\">)</span>\n",
       "        <span style=\"color: #800080; text-decoration-color: #800080; font-weight: bold\">print</span><span style=\"font-weight: bold\">(</span>colorama.Fore.GREEN + f\"Done <span style=\"color: #800080; text-decoration-color: #800080\">/</span> <span style=\"color: #008000; text-decoration-color: #008000\">\", sep=colorama.Style.RESET_ALL, end=\"</span>\"<span style=\"font-weight: bold\">)</span>\n",
       "        <span style=\"color: #800080; text-decoration-color: #800080; font-weight: bold\">print</span><span style=\"font-weight: bold\">(</span>colorama.Fore.RED + f\"Copying<span style=\"color: #808000; text-decoration-color: #808000\">...</span><span style=\"color: #008000; text-decoration-color: #008000\">\", sep=colorama.Style.RESET_ALL, end=\"</span>\"<span style=\"font-weight: bold\">)</span>\n",
       "        <span style=\"color: #800080; text-decoration-color: #800080; font-weight: bold\">copy</span><span style=\"font-weight: bold\">()</span>\n",
       "        <span style=\"color: #800080; text-decoration-color: #800080; font-weight: bold\">print</span><span style=\"font-weight: bold\">(</span>colorama.Fore.GREEN + f\"Done <span style=\"color: #800080; text-decoration-color: #800080\">/</span> <span style=\"color: #008000; text-decoration-color: #008000\">\", sep=colorama.Style.RESET_ALL, end=\"</span>\"<span style=\"font-weight: bold\">)</span>\n",
       "        <span style=\"color: #800080; text-decoration-color: #800080; font-weight: bold\">removetext</span><span style=\"font-weight: bold\">()</span>\n",
       "        hindi = <span style=\"color: #800080; text-decoration-color: #800080; font-weight: bold\">clipboard.paste</span><span style=\"font-weight: bold\">()</span>\n",
       "</pre>\n"
      ],
      "text/plain": [
       "\u001b[1;35mWrite\u001b[0m\u001b[1m(\u001b[0mf\"\u001b[1m{\u001b[0mx\u001b[1m[\u001b[0m\u001b[1;36m0\u001b[0m\u001b[1m]\u001b[0m\u001b[1m}\u001b[0m\"\u001b[1m)\u001b[0m\n",
       "        \u001b[1;35mprint\u001b[0m\u001b[1m(\u001b[0mcolorama.Fore.GREEN + f\"Done \u001b[35m/\u001b[0m \u001b[32m\", \u001b[0m\u001b[32msep\u001b[0m\u001b[32m=\u001b[0m\u001b[32mcolorama\u001b[0m\u001b[32m.Style.RESET_ALL, \u001b[0m\u001b[32mend\u001b[0m\u001b[32m=\"\u001b[0m\"\u001b[1m)\u001b[0m\n",
       "        \u001b[1;35mprint\u001b[0m\u001b[1m(\u001b[0mcolorama.Fore.RED + f\"Copying\u001b[33m...\u001b[0m\u001b[32m\", \u001b[0m\u001b[32msep\u001b[0m\u001b[32m=\u001b[0m\u001b[32mcolorama\u001b[0m\u001b[32m.Style.RESET_ALL, \u001b[0m\u001b[32mend\u001b[0m\u001b[32m=\"\u001b[0m\"\u001b[1m)\u001b[0m\n",
       "        \u001b[1;35mcopy\u001b[0m\u001b[1m(\u001b[0m\u001b[1m)\u001b[0m\n",
       "        \u001b[1;35mprint\u001b[0m\u001b[1m(\u001b[0mcolorama.Fore.GREEN + f\"Done \u001b[35m/\u001b[0m \u001b[32m\", \u001b[0m\u001b[32msep\u001b[0m\u001b[32m=\u001b[0m\u001b[32mcolorama\u001b[0m\u001b[32m.Style.RESET_ALL, \u001b[0m\u001b[32mend\u001b[0m\u001b[32m=\"\u001b[0m\"\u001b[1m)\u001b[0m\n",
       "        \u001b[1;35mremovetext\u001b[0m\u001b[1m(\u001b[0m\u001b[1m)\u001b[0m\n",
       "        hindi = \u001b[1;35mclipboard.paste\u001b[0m\u001b[1m(\u001b[0m\u001b[1m)\u001b[0m\n"
      ]
     },
     "metadata": {},
     "output_type": "display_data"
    },
    {
     "data": {
      "text/html": [
       "<pre style=\"white-space:pre;overflow-x:auto;line-height:normal;font-family:Menlo,'DejaVu Sans Mono',consolas,'Courier New',monospace\">----------------\n",
       "</pre>\n"
      ],
      "text/plain": [
       "----------------\n"
      ]
     },
     "metadata": {},
     "output_type": "display_data"
    },
    {
     "data": {
      "text/html": [
       "<pre style=\"white-space:pre;overflow-x:auto;line-height:normal;font-family:Menlo,'DejaVu Sans Mono',consolas,'Courier New',monospace\"><span style=\"color: #800080; text-decoration-color: #800080; font-weight: bold\">copy</span><span style=\"font-weight: bold\">()</span>\n",
       "        <span style=\"color: #800080; text-decoration-color: #800080; font-weight: bold\">print</span><span style=\"font-weight: bold\">(</span>colorama.Fore.GREEN + f\"Done <span style=\"color: #800080; text-decoration-color: #800080\">/</span> <span style=\"color: #008000; text-decoration-color: #008000\">\", sep=colorama.Style.RESET_ALL, end=\"</span>\"<span style=\"font-weight: bold\">)</span>\n",
       "        <span style=\"color: #800080; text-decoration-color: #800080; font-weight: bold\">removetext</span><span style=\"font-weight: bold\">()</span>\n",
       "        hindi = <span style=\"color: #800080; text-decoration-color: #800080; font-weight: bold\">clipboard.paste</span><span style=\"font-weight: bold\">()</span>\n",
       "        update = f\"<span style=\"color: #008000; text-decoration-color: #008000\">\"\"</span>Update dictionary set valueHin = <span style=\"color: #008000; text-decoration-color: #008000\">'{hindi}'</span> where id = <span style=\"font-weight: bold\">{</span>i+<span style=\"color: #008080; text-decoration-color: #008080; font-weight: bold\">1</span><span style=\"font-weight: bold\">}</span><span style=\"color: #008000; text-decoration-color: #008000\">\"\"</span>\"\n",
       "        <span style=\"color: #800080; text-decoration-color: #800080; font-weight: bold\">c.execute</span><span style=\"font-weight: bold\">(</span>update<span style=\"font-weight: bold\">)</span>\n",
       "        <span style=\"color: #800080; text-decoration-color: #800080; font-weight: bold\">conn.commit</span><span style=\"font-weight: bold\">()</span>\n",
       "        <span style=\"color: #800080; text-decoration-color: #800080; font-weight: bold\">print</span><span style=\"font-weight: bold\">(</span>\n",
       "</pre>\n"
      ],
      "text/plain": [
       "\u001b[1;35mcopy\u001b[0m\u001b[1m(\u001b[0m\u001b[1m)\u001b[0m\n",
       "        \u001b[1;35mprint\u001b[0m\u001b[1m(\u001b[0mcolorama.Fore.GREEN + f\"Done \u001b[35m/\u001b[0m \u001b[32m\", \u001b[0m\u001b[32msep\u001b[0m\u001b[32m=\u001b[0m\u001b[32mcolorama\u001b[0m\u001b[32m.Style.RESET_ALL, \u001b[0m\u001b[32mend\u001b[0m\u001b[32m=\"\u001b[0m\"\u001b[1m)\u001b[0m\n",
       "        \u001b[1;35mremovetext\u001b[0m\u001b[1m(\u001b[0m\u001b[1m)\u001b[0m\n",
       "        hindi = \u001b[1;35mclipboard.paste\u001b[0m\u001b[1m(\u001b[0m\u001b[1m)\u001b[0m\n",
       "        update = f\"\u001b[32m\"\"\u001b[0mUpdate dictionary set valueHin = \u001b[32m'\u001b[0m\u001b[32m{\u001b[0m\u001b[32mhindi\u001b[0m\u001b[32m}\u001b[0m\u001b[32m'\u001b[0m where id = \u001b[1m{\u001b[0mi+\u001b[1;36m1\u001b[0m\u001b[1m}\u001b[0m\u001b[32m\"\"\u001b[0m\"\n",
       "        \u001b[1;35mc.execute\u001b[0m\u001b[1m(\u001b[0mupdate\u001b[1m)\u001b[0m\n",
       "        \u001b[1;35mconn.commit\u001b[0m\u001b[1m(\u001b[0m\u001b[1m)\u001b[0m\n",
       "        \u001b[1;35mprint\u001b[0m\u001b[1m(\u001b[0m\n"
      ]
     },
     "metadata": {},
     "output_type": "display_data"
    },
    {
     "data": {
      "text/html": [
       "<pre style=\"white-space:pre;overflow-x:auto;line-height:normal;font-family:Menlo,'DejaVu Sans Mono',consolas,'Courier New',monospace\">----------------\n",
       "</pre>\n"
      ],
      "text/plain": [
       "----------------\n"
      ]
     },
     "metadata": {},
     "output_type": "display_data"
    },
    {
     "data": {
      "text/html": [
       "<pre style=\"white-space:pre;overflow-x:auto;line-height:normal;font-family:Menlo,'DejaVu Sans Mono',consolas,'Courier New',monospace\">hindi = <span style=\"color: #800080; text-decoration-color: #800080; font-weight: bold\">clipboard.paste</span><span style=\"font-weight: bold\">()</span>\n",
       "        update = f\"<span style=\"color: #008000; text-decoration-color: #008000\">\"\"</span>Update dictionary set valueHin = <span style=\"color: #008000; text-decoration-color: #008000\">'{hindi}'</span> where id = <span style=\"font-weight: bold\">{</span>i+<span style=\"color: #008080; text-decoration-color: #008080; font-weight: bold\">1</span><span style=\"font-weight: bold\">}</span><span style=\"color: #008000; text-decoration-color: #008000\">\"\"</span>\"\n",
       "        <span style=\"color: #800080; text-decoration-color: #800080; font-weight: bold\">c.execute</span><span style=\"font-weight: bold\">(</span>update<span style=\"font-weight: bold\">)</span>\n",
       "        <span style=\"color: #800080; text-decoration-color: #800080; font-weight: bold\">conn.commit</span><span style=\"font-weight: bold\">()</span>\n",
       "        <span style=\"color: #800080; text-decoration-color: #800080; font-weight: bold\">print</span><span style=\"font-weight: bold\">(</span>\n",
       "            colorama.Fore.BLUE + f\"<span style=\"font-weight: bold\">{</span>i+<span style=\"color: #008080; text-decoration-color: #008080; font-weight: bold\">1</span><span style=\"font-weight: bold\">}</span>-<span style=\"font-weight: bold\">{</span>x<span style=\"font-weight: bold\">}</span> : <span style=\"font-weight: bold\">{</span>hindi<span style=\"font-weight: bold\">}</span>\",\n",
       "            <span style=\"color: #008000; text-decoration-color: #008000\">\"\"</span>,\n",
       "            <span style=\"color: #808000; text-decoration-color: #808000\">sep</span>=<span style=\"color: #800080; text-decoration-color: #800080\">colorama</span>.Style.RESET_ALL,\n",
       "        <span style=\"font-weight: bold\">)</span>\n",
       "        <span style=\"color: #800080; text-decoration-color: #800080; font-weight: bold\">time.sleep</span><span style=\"font-weight: bold\">(</span><span style=\"color: #008080; text-decoration-color: #008080; font-weight: bold\">2</span><span style=\"font-weight: bold\">)</span>\n",
       "<span style=\"color: #800080; text-decoration-color: #800080; font-weight: bold\">conn.close</span><span style=\"font-weight: bold\">()</span>\n",
       "</pre>\n"
      ],
      "text/plain": [
       "hindi = \u001b[1;35mclipboard.paste\u001b[0m\u001b[1m(\u001b[0m\u001b[1m)\u001b[0m\n",
       "        update = f\"\u001b[32m\"\"\u001b[0mUpdate dictionary set valueHin = \u001b[32m'\u001b[0m\u001b[32m{\u001b[0m\u001b[32mhindi\u001b[0m\u001b[32m}\u001b[0m\u001b[32m'\u001b[0m where id = \u001b[1m{\u001b[0mi+\u001b[1;36m1\u001b[0m\u001b[1m}\u001b[0m\u001b[32m\"\"\u001b[0m\"\n",
       "        \u001b[1;35mc.execute\u001b[0m\u001b[1m(\u001b[0mupdate\u001b[1m)\u001b[0m\n",
       "        \u001b[1;35mconn.commit\u001b[0m\u001b[1m(\u001b[0m\u001b[1m)\u001b[0m\n",
       "        \u001b[1;35mprint\u001b[0m\u001b[1m(\u001b[0m\n",
       "            colorama.Fore.BLUE + f\"\u001b[1m{\u001b[0mi+\u001b[1;36m1\u001b[0m\u001b[1m}\u001b[0m-\u001b[1m{\u001b[0mx\u001b[1m}\u001b[0m : \u001b[1m{\u001b[0mhindi\u001b[1m}\u001b[0m\",\n",
       "            \u001b[32m\"\"\u001b[0m,\n",
       "            \u001b[33msep\u001b[0m=\u001b[35mcolorama\u001b[0m.Style.RESET_ALL,\n",
       "        \u001b[1m)\u001b[0m\n",
       "        \u001b[1;35mtime.sleep\u001b[0m\u001b[1m(\u001b[0m\u001b[1;36m2\u001b[0m\u001b[1m)\u001b[0m\n",
       "\u001b[1;35mconn.close\u001b[0m\u001b[1m(\u001b[0m\u001b[1m)\u001b[0m\n"
      ]
     },
     "metadata": {},
     "output_type": "display_data"
    },
    {
     "data": {
      "text/html": [
       "<pre style=\"white-space:pre;overflow-x:auto;line-height:normal;font-family:Menlo,'DejaVu Sans Mono',consolas,'Courier New',monospace\">----------------\n",
       "</pre>\n"
      ],
      "text/plain": [
       "----------------\n"
      ]
     },
     "metadata": {},
     "output_type": "display_data"
    }
   ],
   "source": [
    "python_code = PythonLoader(file_path=r\"C:\\Users\\roshan.yadav\\13thWonder\\the_special_nine_day\\Test\\BetterEmbeddingChunkingTechniques\\codebase\\DictionaryDatabase_inerable_gui_based_clicks\\main.py\")\n",
    "python_splitter = PythonCodeTextSplitter.from_tiktoken_encoder(encoding_name=\"cl100k_base\", chunk_size=400, chunk_overlap=200)\n",
    "splitter = RecursiveCharacterTextSplitter.from_tiktoken_encoder(encoding_name=\"cl100k_base\",chunk_size=100, chunk_overlap=50)\n",
    "print(python_splitter._separators)\n",
    "# chunks = python_code.load_and_split(python_splitter)\n",
    "chunks = python_code.load_and_split(splitter)\n",
    "for chunk in chunks:\n",
    "    print(chunk.page_content)\n",
    "    print(\"----------------\")"
   ]
  },
  {
   "cell_type": "code",
   "execution_count": 18,
   "metadata": {},
   "outputs": [
    {
     "data": {
      "text/plain": [
       "[Document(metadata={'source': 'C:\\\\Users\\\\roshan.yadav\\\\13thWonder\\\\the_special_nine_day\\\\Test\\\\BetterEmbeddingChunkingTechniques\\\\codebase\\\\README.md'}, page_content='The goal of this project is to retrieve English words and their Hindi translations using Google Translate. Initially, I used the website www.mso.anu.edu.au to gather dictionary words from A to Z. The collected words, along with their definitions, were structured as key-value pairs and stored in a JSON file.\\n\\nTo automate the process, I initially created a PyAutoGUI script. The script manually opened a Chrome tab with Google Translate, iterated through the JSON file, and simulated Ctrl + C and Ctrl + V to input English words into the translation box. It then copied the Hindi translation by identifying the \"copy\" button using the locateOnScreen method. However, this approach was inefficient and made the computer unusable while the script was running.\\n\\nTo address these issues, I redeveloped the solution using Selenium, which significantly improved efficiency and usability.')]"
      ]
     },
     "execution_count": 18,
     "metadata": {},
     "output_type": "execute_result"
    }
   ],
   "source": [
    "markdown_loader.load()"
   ]
  },
  {
   "cell_type": "code",
   "execution_count": 19,
   "metadata": {},
   "outputs": [
    {
     "data": {
      "text/html": [
       "<pre style=\"white-space:pre;overflow-x:auto;line-height:normal;font-family:Menlo,'DejaVu Sans Mono',consolas,'Courier New',monospace\"><span style=\"font-weight: bold\">[</span><span style=\"color: #008000; text-decoration-color: #008000\">'\\n#{1,6} '</span>, <span style=\"color: #008000; text-decoration-color: #008000\">'```\\n'</span>, <span style=\"color: #008000; text-decoration-color: #008000\">'\\n\\\\*\\\\*\\\\*+\\n'</span>, <span style=\"color: #008000; text-decoration-color: #008000\">'\\n---+\\n'</span>, <span style=\"color: #008000; text-decoration-color: #008000\">'\\n___+\\n'</span>, <span style=\"color: #008000; text-decoration-color: #008000\">'\\n\\n'</span>, <span style=\"color: #008000; text-decoration-color: #008000\">'\\n'</span>, <span style=\"color: #008000; text-decoration-color: #008000\">' '</span>, <span style=\"color: #008000; text-decoration-color: #008000\">''</span><span style=\"font-weight: bold\">]</span>\n",
       "</pre>\n"
      ],
      "text/plain": [
       "\u001b[1m[\u001b[0m\u001b[32m'\\n#\u001b[0m\u001b[32m{\u001b[0m\u001b[32m1,6\u001b[0m\u001b[32m}\u001b[0m\u001b[32m '\u001b[0m, \u001b[32m'```\\n'\u001b[0m, \u001b[32m'\\n\\\\*\\\\*\\\\*+\\n'\u001b[0m, \u001b[32m'\\n---+\\n'\u001b[0m, \u001b[32m'\\n___+\\n'\u001b[0m, \u001b[32m'\\n\\n'\u001b[0m, \u001b[32m'\\n'\u001b[0m, \u001b[32m' '\u001b[0m, \u001b[32m''\u001b[0m\u001b[1m]\u001b[0m\n"
      ]
     },
     "metadata": {},
     "output_type": "display_data"
    },
    {
     "data": {
      "text/html": [
       "<pre style=\"white-space:pre;overflow-x:auto;line-height:normal;font-family:Menlo,'DejaVu Sans Mono',consolas,'Courier New',monospace\">The goal of this project is to retrieve English words and their Hindi translations using Google Translate. \n",
       "Initially, I used the website www.mso.anu.edu.au to gather dictionary words from A to Z. The collected words, along\n",
       "with their definitions, were structured as key-value pairs and stored in a JSON file.\n",
       "\n",
       "To automate the process, I initially created a PyAutoGUI script. The script manually opened a Chrome tab with \n",
       "Google Translate, iterated through the JSON file, and simulated Ctrl + C and Ctrl + V to input English words into \n",
       "the translation box. It then copied the Hindi translation by identifying the <span style=\"color: #008000; text-decoration-color: #008000\">\"copy\"</span> button using the locateOnScreen\n",
       "method. However, this approach was inefficient and made the computer unusable while the script was running.\n",
       "\n",
       "To address these issues, I redeveloped the solution using Selenium, which significantly improved efficiency and \n",
       "usability.\n",
       "</pre>\n"
      ],
      "text/plain": [
       "The goal of this project is to retrieve English words and their Hindi translations using Google Translate. \n",
       "Initially, I used the website www.mso.anu.edu.au to gather dictionary words from A to Z. The collected words, along\n",
       "with their definitions, were structured as key-value pairs and stored in a JSON file.\n",
       "\n",
       "To automate the process, I initially created a PyAutoGUI script. The script manually opened a Chrome tab with \n",
       "Google Translate, iterated through the JSON file, and simulated Ctrl + C and Ctrl + V to input English words into \n",
       "the translation box. It then copied the Hindi translation by identifying the \u001b[32m\"copy\"\u001b[0m button using the locateOnScreen\n",
       "method. However, this approach was inefficient and made the computer unusable while the script was running.\n",
       "\n",
       "To address these issues, I redeveloped the solution using Selenium, which significantly improved efficiency and \n",
       "usability.\n"
      ]
     },
     "metadata": {},
     "output_type": "display_data"
    },
    {
     "data": {
      "text/html": [
       "<pre style=\"white-space:pre;overflow-x:auto;line-height:normal;font-family:Menlo,'DejaVu Sans Mono',consolas,'Courier New',monospace\">----------------\n",
       "</pre>\n"
      ],
      "text/plain": [
       "----------------\n"
      ]
     },
     "metadata": {},
     "output_type": "display_data"
    }
   ],
   "source": [
    "markdown_code = UnstructuredMarkdownLoader(file_path=r\"C:\\Users\\roshan.yadav\\13thWonder\\the_special_nine_day\\Test\\BetterEmbeddingChunkingTechniques\\codebase\\README.md\")\n",
    "markdown_splitter = MarkdownTextSplitter.from_tiktoken_encoder(encoding_name=\"cl100k_base\", chunk_size=400, chunk_overlap=200)\n",
    "print(markdown_splitter._separators)\n",
    "# chunks = markdown_code.load_and_split(markdown_splitter)\n",
    "chunks = markdown_code.load_and_split(splitter)\n",
    "for chunk in chunks:\n",
    "    print(chunk.page_content)\n",
    "    print(\"----------------\")"
   ]
  },
  {
   "cell_type": "code",
   "execution_count": 20,
   "metadata": {},
   "outputs": [
    {
     "data": {
      "text/plain": [
       "[Document(metadata={'source': 'C:\\\\Users\\\\roshan.yadav\\\\13thWonder\\\\the_special_nine_day\\\\Test\\\\BetterEmbeddingChunkingTechniques\\\\codebase\\\\DictionaryDatabase_inerable_gui_based_clicks\\\\test.ipynb'}, page_content='\\'code\\' cell: \\'[\\'import sqlite3\\\\n\\', \\'import pyautogui\\\\n\\', \\'import time\\\\n\\', \\'import clipboard\\\\n\\', \\'from pynput.keyboard import Key,Controller\\\\n\\', \\'import colorama\\\\n\\']\\'\\n\\n\\'code\\' cell: \\'[\\'keyboard=Controller()\\\\n\\', \\'def refresh_Page():\\\\n\\', \"    refreshed = pyautogui.locateOnScreen(\\'images/refresh/refresh.png\\',confidence=0.8)\\\\n\", \\'    pyautogui.click(x=(refreshed[0]+15), y=(refreshed[1]+13))\\\\n\\', \\'\\\\n\\', \\'def refresh_Check():\\\\n\\', \"    a = pyautogui.locateOnScreen(\\'images/refresh/window.png\\',confidence=0.5)\\\\n\", \"    b = pyautogui.locateOnScreen(\\'images/refresh/windowC.png\\',confidence=0.5)\\\\n\", \\'    if a or b:\\\\n\\', \\'        return True\\\\n\\', \\'    else:\\\\n\\', \\'        return False\\\\n\\', \\'\\\\n\\', \\'def Refresh():\\\\n\\', \\'    a=0\\\\n\\', \\'    process = False\\\\n\\', \\'    while not process:\\\\n\\', \\'        if a%5==0:\\\\n\\', \\'            refresh_Page()\\\\n\\', \\'        process = refresh_Check()\\\\n\\', \\'        a+=1\\\\n\\', \\'        time.sleep(1)\\\\n\\', \\'    return True\\\\n\\', \\'\\\\n\\', \\'def Write(data):\\\\n\\', \"    a = pyautogui.locateOnScreen(\\'images/keyboard.png\\',confidence=0.6)\\\\n\", \\'    pyautogui.click(a[0],a[1]-30)\\\\n\\', \"    pyautogui.write(f\\'{data}\\')\\\\n\", \\'    keyboard.press(Key.enter)\\\\n\\', \\'    keyboard.release(Key.enter)\\\\n\\', \\'\\\\n\\', \\'def copy():\\\\n\\', \\'    a = False\\\\n\\', \\'    while not a:\\\\n\\', \\'        try:\\\\n\\', \\'            Blue = pyautogui.locateOnScreen(\\\\n\\', \"                \\'images/copyBlue.png\\', confidence=0.9)\\\\n\", \\'            Black = pyautogui.locateOnScreen(\\\\n\\', \"                \\'images/copyBlack.png\\', confidence=0.9)\\\\n\", \\'            if Blue == None:\\\\n\\', \\'                a = Black[0:2]\\\\n\\', \\'            else:\\\\n\\', \\'                a = Blue[0:2]\\\\n\\', \\'            pyautogui.click(x=a[0]+15, y=a[1]+15)\\\\n\\', \\'            a = True\\\\n\\', \\'        except:\\\\n\\', \\'            continue\\\\n\\', \\'\\\\n\\', \\'\\\\n\\', \\'def removetext():\\\\n\\', \"    a = pyautogui.locateOnScreen(\\'images/cross.png\\',confidence=0.9)\\\\n\", \\'    if a!=None:\\\\n\\', \\'        pyautogui.click(a[0]+15, a[1]+10)\\\\n\\', \\'\\\\n\\']\\'\\n\\n\\'code\\' cell: \\'[\"conn = sqlite3.connect(\\'Dictionary.db\\')\\\\n\", \\'c = conn.cursor()\\\\n\\', \\'\\\\n\\', \"c.execute(\\'SELECT `key`, valueHin FROM Dictionary\\')\\\\n\", \\'data = c.fetchall()\\\\n\\']\\'\\n\\n\\'code\\' cell: \\'[\\'for i,x in enumerate(data):\\\\n\\', \\'      if x[1]==None:\\\\n\\', \\'            if i%20==0:\\\\n\\', \"                  print(colorama.Fore.BLUE+f\\'{i} Refreshing...\\',end=\\'\\')\\\\n\", \\'                  conn.close()\\\\n\\', \\'                  Refresh()\\\\n\\', \"                  print(colorama.Fore.GREEN+f\\'Done\\',\\\\n\", \\'                        sep=colorama.Style.RESET_ALL)\\\\n\\', \\'            removetext()\\\\n\\', \"            print(colorama.Fore.RED+f\\'{i} Writing...\\', \\'\\',\\\\n\", \"                  sep=colorama.Style.RESET_ALL, end=\\'\\')\\\\n\", \\'            Write(f\"{x[0]}\")\\\\n\\', \"            print(colorama.Fore.GREEN+f\\'Done / \\', sep=colorama.Style.RESET_ALL,end=\\'\\')\\\\n\", \"            print(colorama.Fore.RED+f\\'Copying...\\', sep=colorama.Style.RESET_ALL, end=\\'\\')\\\\n\", \\'            copy()\\\\n\\', \"            print(colorama.Fore.GREEN+f\\'Done / \\',\\\\n\", \"                  sep=colorama.Style.RESET_ALL, end=\\'\\')\\\\n\", \\'            removetext()\\\\n\\', \\'            hindi=clipboard.paste()\\\\n\\', \\'            update = f\"\"\"Update Dictionary set valueHin = \\\\\\'{hindi}\\\\\\' where id = {i+1}\"\"\"\\\\n\\', \\'            c.execute(update)\\\\n\\', \\'            conn.commit()\\\\n\\', \"            print(colorama.Fore.BLUE+f\\'{x} : {hindi}\\',\\'\\',sep=colorama.Style.RESET_ALL)\\\\n\", \\'            time.sleep(2)\\']\\'\\n\\n')]"
      ]
     },
     "execution_count": 20,
     "metadata": {},
     "output_type": "execute_result"
    }
   ],
   "source": [
    "notebook_loader.load()"
   ]
  },
  {
   "cell_type": "code",
   "execution_count": 25,
   "metadata": {},
   "outputs": [
    {
     "data": {
      "text/html": [
       "<pre style=\"white-space:pre;overflow-x:auto;line-height:normal;font-family:Menlo,'DejaVu Sans Mono',consolas,'Courier New',monospace\"><span style=\"font-weight: bold\">[</span><span style=\"color: #008000; text-decoration-color: #008000\">'\\nclass '</span>, <span style=\"color: #008000; text-decoration-color: #008000\">'\\ndef '</span>, <span style=\"color: #008000; text-decoration-color: #008000\">'\\n\\tdef '</span>, <span style=\"color: #008000; text-decoration-color: #008000\">'\\n\\n'</span>, <span style=\"color: #008000; text-decoration-color: #008000\">'\\n'</span>, <span style=\"color: #008000; text-decoration-color: #008000\">' '</span>, <span style=\"color: #008000; text-decoration-color: #008000\">''</span><span style=\"font-weight: bold\">]</span>\n",
       "</pre>\n"
      ],
      "text/plain": [
       "\u001b[1m[\u001b[0m\u001b[32m'\\nclass '\u001b[0m, \u001b[32m'\\ndef '\u001b[0m, \u001b[32m'\\n\\tdef '\u001b[0m, \u001b[32m'\\n\\n'\u001b[0m, \u001b[32m'\\n'\u001b[0m, \u001b[32m' '\u001b[0m, \u001b[32m''\u001b[0m\u001b[1m]\u001b[0m\n"
      ]
     },
     "metadata": {},
     "output_type": "display_data"
    },
    {
     "data": {
      "text/html": [
       "<pre style=\"white-space:pre;overflow-x:auto;line-height:normal;font-family:Menlo,'DejaVu Sans Mono',consolas,'Courier New',monospace\"><span style=\"color: #008000; text-decoration-color: #008000\">'code'</span> cell: <span style=\"color: #008000; text-decoration-color: #008000\">'['</span>import sqlite3\\n', <span style=\"color: #008000; text-decoration-color: #008000\">'import pyautogui\\n'</span>, <span style=\"color: #008000; text-decoration-color: #008000\">'import time\\n'</span>, <span style=\"color: #008000; text-decoration-color: #008000\">'import clipboard\\n'</span>, <span style=\"color: #008000; text-decoration-color: #008000\">'from </span>\n",
       "<span style=\"color: #008000; text-decoration-color: #008000\">pynput.keyboard import Key,Controller\\n'</span>, <span style=\"color: #008000; text-decoration-color: #008000\">'import colorama\\n'</span><span style=\"font-weight: bold\">]</span>'\n",
       "</pre>\n"
      ],
      "text/plain": [
       "\u001b[32m'code'\u001b[0m cell: \u001b[32m'\u001b[0m\u001b[32m[\u001b[0m\u001b[32m'\u001b[0mimport sqlite3\\n', \u001b[32m'import pyautogui\\n'\u001b[0m, \u001b[32m'import time\\n'\u001b[0m, \u001b[32m'import clipboard\\n'\u001b[0m, \u001b[32m'from \u001b[0m\n",
       "\u001b[32mpynput.keyboard import Key,Controller\\n'\u001b[0m, \u001b[32m'import colorama\\n'\u001b[0m\u001b[1m]\u001b[0m'\n"
      ]
     },
     "metadata": {},
     "output_type": "display_data"
    },
    {
     "data": {
      "text/html": [
       "<pre style=\"white-space:pre;overflow-x:auto;line-height:normal;font-family:Menlo,'DejaVu Sans Mono',consolas,'Courier New',monospace\">----------------\n",
       "</pre>\n"
      ],
      "text/plain": [
       "----------------\n"
      ]
     },
     "metadata": {},
     "output_type": "display_data"
    },
    {
     "data": {
      "text/html": [
       "<pre style=\"white-space:pre;overflow-x:auto;line-height:normal;font-family:Menlo,'DejaVu Sans Mono',consolas,'Courier New',monospace\"><span style=\"color: #008000; text-decoration-color: #008000\">'code'</span> cell: <span style=\"color: #008000; text-decoration-color: #008000\">'['</span><span style=\"color: #808000; text-decoration-color: #808000\">keyboard</span>=<span style=\"color: #800080; text-decoration-color: #800080; font-weight: bold\">Controller</span><span style=\"font-weight: bold\">()</span>\\n', <span style=\"color: #008000; text-decoration-color: #008000\">'def refresh_Page():\\n'</span>, <span style=\"color: #008000; text-decoration-color: #008000\">\"    refreshed = </span>\n",
       "<span style=\"color: #008000; text-decoration-color: #008000\">pyautogui.locateOnScreen('images/refresh/refresh.png',confidence=0.8)\\n\"</span>, <span style=\"color: #008000; text-decoration-color: #008000\">'    pyautogui.click(x=(refreshed[0]+15),</span>\n",
       "<span style=\"color: #008000; text-decoration-color: #008000\">y=(refreshed[1]+13))\\n'</span>, <span style=\"color: #008000; text-decoration-color: #008000\">'\\n'</span>, <span style=\"color: #008000; text-decoration-color: #008000\">'def refresh_Check():\\n'</span>, <span style=\"color: #008000; text-decoration-color: #008000\">\"    a = </span>\n",
       "<span style=\"color: #008000; text-decoration-color: #008000\">pyautogui.locateOnScreen('images/refresh/window.png',confidence=0.5)\\n\"</span>, <span style=\"color: #008000; text-decoration-color: #008000\">\"    b = </span>\n",
       "<span style=\"color: #008000; text-decoration-color: #008000\">pyautogui.locateOnScreen('images/refresh/windowC.png',confidence=0.5)\\n\"</span>, <span style=\"color: #008000; text-decoration-color: #008000\">'    if a or b:\\n'</span>, <span style=\"color: #008000; text-decoration-color: #008000\">'        return </span>\n",
       "<span style=\"color: #008000; text-decoration-color: #008000\">True\\n'</span>, <span style=\"color: #008000; text-decoration-color: #008000\">'    else:\\n'</span>, <span style=\"color: #008000; text-decoration-color: #008000\">'        return False\\n'</span>, <span style=\"color: #008000; text-decoration-color: #008000\">'\\n'</span>, <span style=\"color: #008000; text-decoration-color: #008000\">'def Refresh():\\n'</span>, <span style=\"color: #008000; text-decoration-color: #008000\">'    a=0\\n'</span>, <span style=\"color: #008000; text-decoration-color: #008000\">'    process = False\\n'</span>, <span style=\"color: #008000; text-decoration-color: #008000\">'</span>\n",
       "<span style=\"color: #008000; text-decoration-color: #008000\">while not process:\\n'</span>, <span style=\"color: #008000; text-decoration-color: #008000\">'        if a%5==0:\\n'</span>, <span style=\"color: #008000; text-decoration-color: #008000\">'            refresh_Page()\\n'</span>, <span style=\"color: #008000; text-decoration-color: #008000\">'        process = </span>\n",
       "<span style=\"color: #008000; text-decoration-color: #008000\">refresh_Check()\\n'</span>, <span style=\"color: #008000; text-decoration-color: #008000\">'        a+=1\\n'</span>, <span style=\"color: #008000; text-decoration-color: #008000\">'        time.sleep(1)\\n'</span>, <span style=\"color: #008000; text-decoration-color: #008000\">'    return True\\n'</span>, <span style=\"color: #008000; text-decoration-color: #008000\">'\\n'</span>, <span style=\"color: #008000; text-decoration-color: #008000\">'def Write(data):\\n'</span>, <span style=\"color: #008000; text-decoration-color: #008000\">\"</span>\n",
       "<span style=\"color: #008000; text-decoration-color: #008000\">a = pyautogui.locateOnScreen('images/keyboard.png',confidence=0.6)\\n\"</span>, <span style=\"color: #008000; text-decoration-color: #008000\">'    pyautogui.click(a[0],a[1]-30)\\n'</span>, <span style=\"color: #008000; text-decoration-color: #008000\">\"    </span>\n",
       "<span style=\"color: #008000; text-decoration-color: #008000\">pyautogui.write(f'{data}')\\n\"</span>, <span style=\"color: #008000; text-decoration-color: #008000\">'    keyboard.press(Key.enter)\\n'</span>, '\n",
       "</pre>\n"
      ],
      "text/plain": [
       "\u001b[32m'code'\u001b[0m cell: \u001b[32m'\u001b[0m\u001b[32m[\u001b[0m\u001b[32m'\u001b[0m\u001b[33mkeyboard\u001b[0m=\u001b[1;35mController\u001b[0m\u001b[1m(\u001b[0m\u001b[1m)\u001b[0m\\n', \u001b[32m'def refresh_Page\u001b[0m\u001b[32m(\u001b[0m\u001b[32m)\u001b[0m\u001b[32m:\\n'\u001b[0m, \u001b[32m\"    refreshed = \u001b[0m\n",
       "\u001b[32mpyautogui.locateOnScreen\u001b[0m\u001b[32m(\u001b[0m\u001b[32m'images/refresh/refresh.png',\u001b[0m\u001b[32mconfidence\u001b[0m\u001b[32m=\u001b[0m\u001b[32m0\u001b[0m\u001b[32m.8\u001b[0m\u001b[32m)\u001b[0m\u001b[32m\\n\"\u001b[0m, \u001b[32m'    pyautogui.click\u001b[0m\u001b[32m(\u001b[0m\u001b[32mx\u001b[0m\u001b[32m=\u001b[0m\u001b[32m(\u001b[0m\u001b[32mrefreshed\u001b[0m\u001b[32m[\u001b[0m\u001b[32m0\u001b[0m\u001b[32m]\u001b[0m\u001b[32m+15\u001b[0m\u001b[32m)\u001b[0m\u001b[32m,\u001b[0m\n",
       "\u001b[32my\u001b[0m\u001b[32m=\u001b[0m\u001b[32m(\u001b[0m\u001b[32mrefreshed\u001b[0m\u001b[32m[\u001b[0m\u001b[32m1\u001b[0m\u001b[32m]\u001b[0m\u001b[32m+13\u001b[0m\u001b[32m)\u001b[0m\u001b[32m)\u001b[0m\u001b[32m\\n'\u001b[0m, \u001b[32m'\\n'\u001b[0m, \u001b[32m'def refresh_Check\u001b[0m\u001b[32m(\u001b[0m\u001b[32m)\u001b[0m\u001b[32m:\\n'\u001b[0m, \u001b[32m\"    a = \u001b[0m\n",
       "\u001b[32mpyautogui.locateOnScreen\u001b[0m\u001b[32m(\u001b[0m\u001b[32m'images/refresh/window.png',\u001b[0m\u001b[32mconfidence\u001b[0m\u001b[32m=\u001b[0m\u001b[32m0\u001b[0m\u001b[32m.5\u001b[0m\u001b[32m)\u001b[0m\u001b[32m\\n\"\u001b[0m, \u001b[32m\"    b = \u001b[0m\n",
       "\u001b[32mpyautogui.locateOnScreen\u001b[0m\u001b[32m(\u001b[0m\u001b[32m'images/refresh/windowC.png',\u001b[0m\u001b[32mconfidence\u001b[0m\u001b[32m=\u001b[0m\u001b[32m0\u001b[0m\u001b[32m.5\u001b[0m\u001b[32m)\u001b[0m\u001b[32m\\n\"\u001b[0m, \u001b[32m'    if a or b:\\n'\u001b[0m, \u001b[32m'        return \u001b[0m\n",
       "\u001b[32mTrue\\n'\u001b[0m, \u001b[32m'    else:\\n'\u001b[0m, \u001b[32m'        return False\\n'\u001b[0m, \u001b[32m'\\n'\u001b[0m, \u001b[32m'def Refresh\u001b[0m\u001b[32m(\u001b[0m\u001b[32m)\u001b[0m\u001b[32m:\\n'\u001b[0m, \u001b[32m'    \u001b[0m\u001b[32ma\u001b[0m\u001b[32m=\u001b[0m\u001b[32m0\u001b[0m\u001b[32m\\n'\u001b[0m, \u001b[32m'    process = False\\n'\u001b[0m, \u001b[32m'\u001b[0m\n",
       "\u001b[32mwhile not process:\\n'\u001b[0m, \u001b[32m'        if a%\u001b[0m\u001b[32m5\u001b[0m\u001b[32m==0:\\n'\u001b[0m, \u001b[32m'            refresh_Page\u001b[0m\u001b[32m(\u001b[0m\u001b[32m)\u001b[0m\u001b[32m\\n'\u001b[0m, \u001b[32m'        process = \u001b[0m\n",
       "\u001b[32mrefresh_Check\u001b[0m\u001b[32m(\u001b[0m\u001b[32m)\u001b[0m\u001b[32m\\n'\u001b[0m, \u001b[32m'        a+=1\\n'\u001b[0m, \u001b[32m'        time.sleep\u001b[0m\u001b[32m(\u001b[0m\u001b[32m1\u001b[0m\u001b[32m)\u001b[0m\u001b[32m\\n'\u001b[0m, \u001b[32m'    return True\\n'\u001b[0m, \u001b[32m'\\n'\u001b[0m, \u001b[32m'def Write\u001b[0m\u001b[32m(\u001b[0m\u001b[32mdata\u001b[0m\u001b[32m)\u001b[0m\u001b[32m:\\n'\u001b[0m, \u001b[32m\"\u001b[0m\n",
       "\u001b[32ma = pyautogui.locateOnScreen\u001b[0m\u001b[32m(\u001b[0m\u001b[32m'images/keyboard.png',\u001b[0m\u001b[32mconfidence\u001b[0m\u001b[32m=\u001b[0m\u001b[32m0\u001b[0m\u001b[32m.6\u001b[0m\u001b[32m)\u001b[0m\u001b[32m\\n\"\u001b[0m, \u001b[32m'    pyautogui.click\u001b[0m\u001b[32m(\u001b[0m\u001b[32ma\u001b[0m\u001b[32m[\u001b[0m\u001b[32m0\u001b[0m\u001b[32m]\u001b[0m\u001b[32m,a\u001b[0m\u001b[32m[\u001b[0m\u001b[32m1\u001b[0m\u001b[32m]\u001b[0m\u001b[32m-30\u001b[0m\u001b[32m)\u001b[0m\u001b[32m\\n'\u001b[0m, \u001b[32m\"    \u001b[0m\n",
       "\u001b[32mpyautogui.write\u001b[0m\u001b[32m(\u001b[0m\u001b[32mf'\u001b[0m\u001b[32m{\u001b[0m\u001b[32mdata\u001b[0m\u001b[32m}\u001b[0m\u001b[32m'\u001b[0m\u001b[32m)\u001b[0m\u001b[32m\\n\"\u001b[0m, \u001b[32m'    keyboard.press\u001b[0m\u001b[32m(\u001b[0m\u001b[32mKey.enter\u001b[0m\u001b[32m)\u001b[0m\u001b[32m\\n'\u001b[0m, '\n"
      ]
     },
     "metadata": {},
     "output_type": "display_data"
    },
    {
     "data": {
      "text/html": [
       "<pre style=\"white-space:pre;overflow-x:auto;line-height:normal;font-family:Menlo,'DejaVu Sans Mono',consolas,'Courier New',monospace\">----------------\n",
       "</pre>\n"
      ],
      "text/plain": [
       "----------------\n"
      ]
     },
     "metadata": {},
     "output_type": "display_data"
    },
    {
     "data": {
      "text/html": [
       "<pre style=\"white-space:pre;overflow-x:auto;line-height:normal;font-family:Menlo,'DejaVu Sans Mono',consolas,'Courier New',monospace\"><span style=\"color: #008000; text-decoration-color: #008000\">'    return True\\n'</span>, <span style=\"color: #008000; text-decoration-color: #008000\">'\\n'</span>, <span style=\"color: #008000; text-decoration-color: #008000\">'def Write(data):\\n'</span>, <span style=\"color: #008000; text-decoration-color: #008000\">\"    a = </span>\n",
       "<span style=\"color: #008000; text-decoration-color: #008000\">pyautogui.locateOnScreen('images/keyboard.png',confidence=0.6)\\n\"</span>, <span style=\"color: #008000; text-decoration-color: #008000\">'    pyautogui.click(a[0],a[1]-30)\\n'</span>, <span style=\"color: #008000; text-decoration-color: #008000\">\"    </span>\n",
       "<span style=\"color: #008000; text-decoration-color: #008000\">pyautogui.write(f'{data}')\\n\"</span>, <span style=\"color: #008000; text-decoration-color: #008000\">'    keyboard.press(Key.enter)\\n'</span>, <span style=\"color: #008000; text-decoration-color: #008000\">'    keyboard.release(Key.enter)\\n'</span>, <span style=\"color: #008000; text-decoration-color: #008000\">'\\n'</span>, <span style=\"color: #008000; text-decoration-color: #008000\">'def </span>\n",
       "<span style=\"color: #008000; text-decoration-color: #008000\">copy():\\n'</span>, <span style=\"color: #008000; text-decoration-color: #008000\">'    a = False\\n'</span>, <span style=\"color: #008000; text-decoration-color: #008000\">'    while not a:\\n'</span>, <span style=\"color: #008000; text-decoration-color: #008000\">'        try:\\n'</span>, <span style=\"color: #008000; text-decoration-color: #008000\">'            Blue = </span>\n",
       "<span style=\"color: #008000; text-decoration-color: #008000\">pyautogui.locateOnScreen(\\n'</span>, <span style=\"color: #008000; text-decoration-color: #008000\">\"                'images/copyBlue.png', confidence=0.9)\\n\"</span>, <span style=\"color: #008000; text-decoration-color: #008000\">'            Black = </span>\n",
       "<span style=\"color: #008000; text-decoration-color: #008000\">pyautogui.locateOnScreen(\\n'</span>, <span style=\"color: #008000; text-decoration-color: #008000\">\"                'images/copyBlack.png', confidence=0.9)\\n\"</span>, <span style=\"color: #008000; text-decoration-color: #008000\">'            if Blue == </span>\n",
       "<span style=\"color: #008000; text-decoration-color: #008000\">None:\\n'</span>, <span style=\"color: #008000; text-decoration-color: #008000\">'                a = Black[0:2]\\n'</span>, <span style=\"color: #008000; text-decoration-color: #008000\">'            else:\\n'</span>, <span style=\"color: #008000; text-decoration-color: #008000\">'                a = Blue[0:2]\\n'</span>, <span style=\"color: #008000; text-decoration-color: #008000\">'          </span>\n",
       "<span style=\"color: #008000; text-decoration-color: #008000\">pyautogui.click(x=a[0]+15, y=a[1]+15)\\n'</span>, <span style=\"color: #008000; text-decoration-color: #008000\">'            a = True\\n'</span>, '\n",
       "</pre>\n"
      ],
      "text/plain": [
       "\u001b[32m'    return True\\n'\u001b[0m, \u001b[32m'\\n'\u001b[0m, \u001b[32m'def Write\u001b[0m\u001b[32m(\u001b[0m\u001b[32mdata\u001b[0m\u001b[32m)\u001b[0m\u001b[32m:\\n'\u001b[0m, \u001b[32m\"    a = \u001b[0m\n",
       "\u001b[32mpyautogui.locateOnScreen\u001b[0m\u001b[32m(\u001b[0m\u001b[32m'images/keyboard.png',\u001b[0m\u001b[32mconfidence\u001b[0m\u001b[32m=\u001b[0m\u001b[32m0\u001b[0m\u001b[32m.6\u001b[0m\u001b[32m)\u001b[0m\u001b[32m\\n\"\u001b[0m, \u001b[32m'    pyautogui.click\u001b[0m\u001b[32m(\u001b[0m\u001b[32ma\u001b[0m\u001b[32m[\u001b[0m\u001b[32m0\u001b[0m\u001b[32m]\u001b[0m\u001b[32m,a\u001b[0m\u001b[32m[\u001b[0m\u001b[32m1\u001b[0m\u001b[32m]\u001b[0m\u001b[32m-30\u001b[0m\u001b[32m)\u001b[0m\u001b[32m\\n'\u001b[0m, \u001b[32m\"    \u001b[0m\n",
       "\u001b[32mpyautogui.write\u001b[0m\u001b[32m(\u001b[0m\u001b[32mf'\u001b[0m\u001b[32m{\u001b[0m\u001b[32mdata\u001b[0m\u001b[32m}\u001b[0m\u001b[32m'\u001b[0m\u001b[32m)\u001b[0m\u001b[32m\\n\"\u001b[0m, \u001b[32m'    keyboard.press\u001b[0m\u001b[32m(\u001b[0m\u001b[32mKey.enter\u001b[0m\u001b[32m)\u001b[0m\u001b[32m\\n'\u001b[0m, \u001b[32m'    keyboard.release\u001b[0m\u001b[32m(\u001b[0m\u001b[32mKey.enter\u001b[0m\u001b[32m)\u001b[0m\u001b[32m\\n'\u001b[0m, \u001b[32m'\\n'\u001b[0m, \u001b[32m'def \u001b[0m\n",
       "\u001b[32mcopy\u001b[0m\u001b[32m(\u001b[0m\u001b[32m)\u001b[0m\u001b[32m:\\n'\u001b[0m, \u001b[32m'    a = False\\n'\u001b[0m, \u001b[32m'    while not a:\\n'\u001b[0m, \u001b[32m'        try:\\n'\u001b[0m, \u001b[32m'            Blue = \u001b[0m\n",
       "\u001b[32mpyautogui.locateOnScreen\u001b[0m\u001b[32m(\u001b[0m\u001b[32m\\n'\u001b[0m, \u001b[32m\"                'images/copyBlue.png', \u001b[0m\u001b[32mconfidence\u001b[0m\u001b[32m=\u001b[0m\u001b[32m0\u001b[0m\u001b[32m.9\u001b[0m\u001b[32m)\u001b[0m\u001b[32m\\n\"\u001b[0m, \u001b[32m'            Black = \u001b[0m\n",
       "\u001b[32mpyautogui.locateOnScreen\u001b[0m\u001b[32m(\u001b[0m\u001b[32m\\n'\u001b[0m, \u001b[32m\"                'images/copyBlack.png', \u001b[0m\u001b[32mconfidence\u001b[0m\u001b[32m=\u001b[0m\u001b[32m0\u001b[0m\u001b[32m.9\u001b[0m\u001b[32m)\u001b[0m\u001b[32m\\n\"\u001b[0m, \u001b[32m'            if Blue == \u001b[0m\n",
       "\u001b[32mNone:\\n'\u001b[0m, \u001b[32m'                a = Black\u001b[0m\u001b[32m[\u001b[0m\u001b[32m0:2\u001b[0m\u001b[32m]\u001b[0m\u001b[32m\\n'\u001b[0m, \u001b[32m'            else:\\n'\u001b[0m, \u001b[32m'                a = Blue\u001b[0m\u001b[32m[\u001b[0m\u001b[32m0:2\u001b[0m\u001b[32m]\u001b[0m\u001b[32m\\n'\u001b[0m, \u001b[32m'          \u001b[0m\n",
       "\u001b[32mpyautogui.click\u001b[0m\u001b[32m(\u001b[0m\u001b[32mx\u001b[0m\u001b[32m=\u001b[0m\u001b[32ma\u001b[0m\u001b[32m[\u001b[0m\u001b[32m0\u001b[0m\u001b[32m]\u001b[0m\u001b[32m+15, \u001b[0m\u001b[32my\u001b[0m\u001b[32m=\u001b[0m\u001b[32ma\u001b[0m\u001b[32m[\u001b[0m\u001b[32m1\u001b[0m\u001b[32m]\u001b[0m\u001b[32m+15\u001b[0m\u001b[32m)\u001b[0m\u001b[32m\\n'\u001b[0m, \u001b[32m'            a = True\\n'\u001b[0m, '\n"
      ]
     },
     "metadata": {},
     "output_type": "display_data"
    },
    {
     "data": {
      "text/html": [
       "<pre style=\"white-space:pre;overflow-x:auto;line-height:normal;font-family:Menlo,'DejaVu Sans Mono',consolas,'Courier New',monospace\">----------------\n",
       "</pre>\n"
      ],
      "text/plain": [
       "----------------\n"
      ]
     },
     "metadata": {},
     "output_type": "display_data"
    },
    {
     "data": {
      "text/html": [
       "<pre style=\"white-space:pre;overflow-x:auto;line-height:normal;font-family:Menlo,'DejaVu Sans Mono',consolas,'Courier New',monospace\"><span style=\"color: #008000; text-decoration-color: #008000\">'            else:\\n'</span>, <span style=\"color: #008000; text-decoration-color: #008000\">'                a = Blue[0:2]\\n'</span>, <span style=\"color: #008000; text-decoration-color: #008000\">'            pyautogui.click(x=a[0]+15, y=a[1]+15)\\n'</span>, <span style=\"color: #008000; text-decoration-color: #008000\">' </span>\n",
       "<span style=\"color: #008000; text-decoration-color: #008000\">a = True\\n'</span>, <span style=\"color: #008000; text-decoration-color: #008000\">'        except:\\n'</span>, <span style=\"color: #008000; text-decoration-color: #008000\">'            continue\\n'</span>, <span style=\"color: #008000; text-decoration-color: #008000\">'\\n'</span>, <span style=\"color: #008000; text-decoration-color: #008000\">'\\n'</span>, <span style=\"color: #008000; text-decoration-color: #008000\">'def removetext():\\n'</span>, <span style=\"color: #008000; text-decoration-color: #008000\">\"    a = </span>\n",
       "<span style=\"color: #008000; text-decoration-color: #008000\">pyautogui.locateOnScreen('images/cross.png',confidence=0.9)\\n\"</span>, <span style=\"color: #008000; text-decoration-color: #008000\">'    if a!=None:\\n'</span>, <span style=\"color: #008000; text-decoration-color: #008000\">'        </span>\n",
       "<span style=\"color: #008000; text-decoration-color: #008000\">pyautogui.click(a[0]+15, a[1]+10)\\n'</span>, <span style=\"color: #008000; text-decoration-color: #008000\">'\\n'</span><span style=\"font-weight: bold\">]</span>'\n",
       "</pre>\n"
      ],
      "text/plain": [
       "\u001b[32m'            else:\\n'\u001b[0m, \u001b[32m'                a = Blue\u001b[0m\u001b[32m[\u001b[0m\u001b[32m0:2\u001b[0m\u001b[32m]\u001b[0m\u001b[32m\\n'\u001b[0m, \u001b[32m'            pyautogui.click\u001b[0m\u001b[32m(\u001b[0m\u001b[32mx\u001b[0m\u001b[32m=\u001b[0m\u001b[32ma\u001b[0m\u001b[32m[\u001b[0m\u001b[32m0\u001b[0m\u001b[32m]\u001b[0m\u001b[32m+15, \u001b[0m\u001b[32my\u001b[0m\u001b[32m=\u001b[0m\u001b[32ma\u001b[0m\u001b[32m[\u001b[0m\u001b[32m1\u001b[0m\u001b[32m]\u001b[0m\u001b[32m+15\u001b[0m\u001b[32m)\u001b[0m\u001b[32m\\n'\u001b[0m, \u001b[32m' \u001b[0m\n",
       "\u001b[32ma = True\\n'\u001b[0m, \u001b[32m'        except:\\n'\u001b[0m, \u001b[32m'            continue\\n'\u001b[0m, \u001b[32m'\\n'\u001b[0m, \u001b[32m'\\n'\u001b[0m, \u001b[32m'def removetext\u001b[0m\u001b[32m(\u001b[0m\u001b[32m)\u001b[0m\u001b[32m:\\n'\u001b[0m, \u001b[32m\"    a = \u001b[0m\n",
       "\u001b[32mpyautogui.locateOnScreen\u001b[0m\u001b[32m(\u001b[0m\u001b[32m'images/cross.png',\u001b[0m\u001b[32mconfidence\u001b[0m\u001b[32m=\u001b[0m\u001b[32m0\u001b[0m\u001b[32m.9\u001b[0m\u001b[32m)\u001b[0m\u001b[32m\\n\"\u001b[0m, \u001b[32m'    if a!=None:\\n'\u001b[0m, \u001b[32m'        \u001b[0m\n",
       "\u001b[32mpyautogui.click\u001b[0m\u001b[32m(\u001b[0m\u001b[32ma\u001b[0m\u001b[32m[\u001b[0m\u001b[32m0\u001b[0m\u001b[32m]\u001b[0m\u001b[32m+15, a\u001b[0m\u001b[32m[\u001b[0m\u001b[32m1\u001b[0m\u001b[32m]\u001b[0m\u001b[32m+10\u001b[0m\u001b[32m)\u001b[0m\u001b[32m\\n'\u001b[0m, \u001b[32m'\\n'\u001b[0m\u001b[1m]\u001b[0m'\n"
      ]
     },
     "metadata": {},
     "output_type": "display_data"
    },
    {
     "data": {
      "text/html": [
       "<pre style=\"white-space:pre;overflow-x:auto;line-height:normal;font-family:Menlo,'DejaVu Sans Mono',consolas,'Courier New',monospace\">----------------\n",
       "</pre>\n"
      ],
      "text/plain": [
       "----------------\n"
      ]
     },
     "metadata": {},
     "output_type": "display_data"
    },
    {
     "data": {
      "text/html": [
       "<pre style=\"white-space:pre;overflow-x:auto;line-height:normal;font-family:Menlo,'DejaVu Sans Mono',consolas,'Courier New',monospace\"><span style=\"color: #008000; text-decoration-color: #008000\">'code'</span> cell: <span style=\"color: #008000; text-decoration-color: #008000\">'[\"conn = sqlite3.connect('</span>Dictionary.db'<span style=\"font-weight: bold\">)</span>\\n\", <span style=\"color: #008000; text-decoration-color: #008000\">'c = conn.cursor()\\n'</span>, <span style=\"color: #008000; text-decoration-color: #008000\">'\\n'</span>, <span style=\"color: #008000; text-decoration-color: #008000\">\"c.execute('SELECT `key`, </span>\n",
       "<span style=\"color: #008000; text-decoration-color: #008000\">valueHin FROM Dictionary')\\n\"</span>, <span style=\"color: #008000; text-decoration-color: #008000\">'data = c.fetchall()\\n'</span><span style=\"font-weight: bold\">]</span>'\n",
       "\n",
       "<span style=\"color: #008000; text-decoration-color: #008000\">'code'</span> cell: <span style=\"color: #008000; text-decoration-color: #008000\">'['</span>for i,x in <span style=\"color: #800080; text-decoration-color: #800080; font-weight: bold\">enumerate</span><span style=\"font-weight: bold\">(</span>data<span style=\"font-weight: bold\">)</span>:\\n', <span style=\"color: #008000; text-decoration-color: #008000\">'      if x[1]==None:\\n'</span>, <span style=\"color: #008000; text-decoration-color: #008000\">'            if i%20==0:\\n'</span>, <span style=\"color: #008000; text-decoration-color: #008000\">\"           </span>\n",
       "<span style=\"color: #008000; text-decoration-color: #008000\">print(colorama.Fore.BLUE+f'{i} Refreshing...',end='')\\n\"</span>, <span style=\"color: #008000; text-decoration-color: #008000\">'                  conn.close()\\n'</span>, <span style=\"color: #008000; text-decoration-color: #008000\">'                  </span>\n",
       "<span style=\"color: #008000; text-decoration-color: #008000\">Refresh()\\n'</span>, <span style=\"color: #008000; text-decoration-color: #008000\">\"                  print(colorama.Fore.GREEN+f'Done',\\n\"</span>, <span style=\"color: #008000; text-decoration-color: #008000\">'                        </span>\n",
       "<span style=\"color: #008000; text-decoration-color: #008000\">sep=colorama.Style.RESET_ALL)\\n'</span>, <span style=\"color: #008000; text-decoration-color: #008000\">'            removetext()\\n'</span>, <span style=\"color: #008000; text-decoration-color: #008000\">\"            print(colorama.Fore.RED+f'{i} </span>\n",
       "<span style=\"color: #008000; text-decoration-color: #008000\">Writing...', '',\\n\"</span>, <span style=\"color: #008000; text-decoration-color: #008000\">\"                  sep=colorama.Style.RESET_ALL, end='')\\n\"</span>, <span style=\"color: #008000; text-decoration-color: #008000\">'            Write(f\"{x[0]}\")\\n'</span>,\n",
       "<span style=\"color: #008000; text-decoration-color: #008000\">\"            print(colorama.Fore.GREEN+f'Done / ', sep=colorama.Style.RESET_ALL,end='')\\n\"</span>, <span style=\"color: #008000; text-decoration-color: #008000\">\"            </span>\n",
       "<span style=\"color: #008000; text-decoration-color: #008000\">print(colorama.Fore.RED+f'Copying...', sep=colorama.Style.RESET_ALL, end='')\\n\"</span>, <span style=\"color: #008000; text-decoration-color: #008000\">'            copy()\\n'</span>, <span style=\"color: #008000; text-decoration-color: #008000\">\"         </span>\n",
       "<span style=\"color: #008000; text-decoration-color: #008000\">print(colorama.Fore.GREEN+f'Done / ',\\n\"</span>, <span style=\"color: #008000; text-decoration-color: #008000\">\"                  sep=colorama.Style.RESET_ALL, end='')\\n\"</span>, <span style=\"color: #008000; text-decoration-color: #008000\">'           </span>\n",
       "<span style=\"color: #008000; text-decoration-color: #008000\">removetext()\\n'</span>, <span style=\"color: #008000; text-decoration-color: #008000\">'            hindi=clipboard.paste()\\n'</span>, <span style=\"color: #008000; text-decoration-color: #008000\">'            update = f\"\"\"Update Dictionary set valueHin </span>\n",
       "<span style=\"color: #008000; text-decoration-color: #008000\">= \\'{hindi}\\' where id = {i+1}\"\"\"\\n'</span>, <span style=\"color: #008000; text-decoration-color: #008000\">'            c.execute(update)\\n'</span>, <span style=\"color: #008000; text-decoration-color: #008000\">'            conn.commit()\\n'</span>, <span style=\"color: #008000; text-decoration-color: #008000\">\"          </span>\n",
       "<span style=\"color: #008000; text-decoration-color: #008000\">print(colorama.Fore.BLUE+f'{x} : {hindi}','',sep=colorama.Style.RESET_ALL)\\n\"</span>, <span style=\"color: #008000; text-decoration-color: #008000\">'            time.sleep(2)'</span><span style=\"font-weight: bold\">]</span>'\n",
       "</pre>\n"
      ],
      "text/plain": [
       "\u001b[32m'code'\u001b[0m cell: \u001b[32m'\u001b[0m\u001b[32m[\u001b[0m\u001b[32m\"conn = sqlite3.connect\u001b[0m\u001b[32m(\u001b[0m\u001b[32m'\u001b[0mDictionary.db'\u001b[1m)\u001b[0m\\n\", \u001b[32m'c = conn.cursor\u001b[0m\u001b[32m(\u001b[0m\u001b[32m)\u001b[0m\u001b[32m\\n'\u001b[0m, \u001b[32m'\\n'\u001b[0m, \u001b[32m\"c.execute\u001b[0m\u001b[32m(\u001b[0m\u001b[32m'SELECT `key`, \u001b[0m\n",
       "\u001b[32mvalueHin FROM Dictionary'\u001b[0m\u001b[32m)\u001b[0m\u001b[32m\\n\"\u001b[0m, \u001b[32m'data = c.fetchall\u001b[0m\u001b[32m(\u001b[0m\u001b[32m)\u001b[0m\u001b[32m\\n'\u001b[0m\u001b[1m]\u001b[0m'\n",
       "\n",
       "\u001b[32m'code'\u001b[0m cell: \u001b[32m'\u001b[0m\u001b[32m[\u001b[0m\u001b[32m'\u001b[0mfor i,x in \u001b[1;35menumerate\u001b[0m\u001b[1m(\u001b[0mdata\u001b[1m)\u001b[0m:\\n', \u001b[32m'      if x\u001b[0m\u001b[32m[\u001b[0m\u001b[32m1\u001b[0m\u001b[32m]\u001b[0m\u001b[32m==None:\\n'\u001b[0m, \u001b[32m'            if i%\u001b[0m\u001b[32m20\u001b[0m\u001b[32m==0:\\n'\u001b[0m, \u001b[32m\"           \u001b[0m\n",
       "\u001b[32mprint\u001b[0m\u001b[32m(\u001b[0m\u001b[32mcolorama.Fore.BLUE+f'\u001b[0m\u001b[32m{\u001b[0m\u001b[32mi\u001b[0m\u001b[32m}\u001b[0m\u001b[32m Refreshing...',\u001b[0m\u001b[32mend\u001b[0m\u001b[32m=''\u001b[0m\u001b[32m)\u001b[0m\u001b[32m\\n\"\u001b[0m, \u001b[32m'                  conn.close\u001b[0m\u001b[32m(\u001b[0m\u001b[32m)\u001b[0m\u001b[32m\\n'\u001b[0m, \u001b[32m'                  \u001b[0m\n",
       "\u001b[32mRefresh\u001b[0m\u001b[32m(\u001b[0m\u001b[32m)\u001b[0m\u001b[32m\\n'\u001b[0m, \u001b[32m\"                  print\u001b[0m\u001b[32m(\u001b[0m\u001b[32mcolorama.Fore.GREEN+f'Done',\\n\"\u001b[0m, \u001b[32m'                        \u001b[0m\n",
       "\u001b[32msep\u001b[0m\u001b[32m=\u001b[0m\u001b[32mcolorama\u001b[0m\u001b[32m.Style.RESET_ALL\u001b[0m\u001b[32m)\u001b[0m\u001b[32m\\n'\u001b[0m, \u001b[32m'            removetext\u001b[0m\u001b[32m(\u001b[0m\u001b[32m)\u001b[0m\u001b[32m\\n'\u001b[0m, \u001b[32m\"            print\u001b[0m\u001b[32m(\u001b[0m\u001b[32mcolorama.Fore.RED+f'\u001b[0m\u001b[32m{\u001b[0m\u001b[32mi\u001b[0m\u001b[32m}\u001b[0m\u001b[32m \u001b[0m\n",
       "\u001b[32mWriting...', '',\\n\"\u001b[0m, \u001b[32m\"                  \u001b[0m\u001b[32msep\u001b[0m\u001b[32m=\u001b[0m\u001b[32mcolorama\u001b[0m\u001b[32m.Style.RESET_ALL, \u001b[0m\u001b[32mend\u001b[0m\u001b[32m=''\u001b[0m\u001b[32m)\u001b[0m\u001b[32m\\n\"\u001b[0m, \u001b[32m'            Write\u001b[0m\u001b[32m(\u001b[0m\u001b[32mf\"\u001b[0m\u001b[32m{\u001b[0m\u001b[32mx\u001b[0m\u001b[32m[\u001b[0m\u001b[32m0\u001b[0m\u001b[32m]\u001b[0m\u001b[32m}\u001b[0m\u001b[32m\"\u001b[0m\u001b[32m)\u001b[0m\u001b[32m\\n'\u001b[0m,\n",
       "\u001b[32m\"            print\u001b[0m\u001b[32m(\u001b[0m\u001b[32mcolorama.Fore.GREEN+f'Done / ', \u001b[0m\u001b[32msep\u001b[0m\u001b[32m=\u001b[0m\u001b[32mcolorama\u001b[0m\u001b[32m.Style.RESET_ALL,\u001b[0m\u001b[32mend\u001b[0m\u001b[32m=''\u001b[0m\u001b[32m)\u001b[0m\u001b[32m\\n\"\u001b[0m, \u001b[32m\"            \u001b[0m\n",
       "\u001b[32mprint\u001b[0m\u001b[32m(\u001b[0m\u001b[32mcolorama.Fore.RED+f'Copying...', \u001b[0m\u001b[32msep\u001b[0m\u001b[32m=\u001b[0m\u001b[32mcolorama\u001b[0m\u001b[32m.Style.RESET_ALL, \u001b[0m\u001b[32mend\u001b[0m\u001b[32m=''\u001b[0m\u001b[32m)\u001b[0m\u001b[32m\\n\"\u001b[0m, \u001b[32m'            copy\u001b[0m\u001b[32m(\u001b[0m\u001b[32m)\u001b[0m\u001b[32m\\n'\u001b[0m, \u001b[32m\"         \u001b[0m\n",
       "\u001b[32mprint\u001b[0m\u001b[32m(\u001b[0m\u001b[32mcolorama.Fore.GREEN+f'Done / ',\\n\"\u001b[0m, \u001b[32m\"                  \u001b[0m\u001b[32msep\u001b[0m\u001b[32m=\u001b[0m\u001b[32mcolorama\u001b[0m\u001b[32m.Style.RESET_ALL, \u001b[0m\u001b[32mend\u001b[0m\u001b[32m=''\u001b[0m\u001b[32m)\u001b[0m\u001b[32m\\n\"\u001b[0m, \u001b[32m'           \u001b[0m\n",
       "\u001b[32mremovetext\u001b[0m\u001b[32m(\u001b[0m\u001b[32m)\u001b[0m\u001b[32m\\n'\u001b[0m, \u001b[32m'            \u001b[0m\u001b[32mhindi\u001b[0m\u001b[32m=\u001b[0m\u001b[32mclipboard\u001b[0m\u001b[32m.paste\u001b[0m\u001b[32m(\u001b[0m\u001b[32m)\u001b[0m\u001b[32m\\n'\u001b[0m, \u001b[32m'            update = f\"\"\"Update Dictionary set valueHin \u001b[0m\n",
       "\u001b[32m= \\'\u001b[0m\u001b[32m{\u001b[0m\u001b[32mhindi\u001b[0m\u001b[32m}\u001b[0m\u001b[32m\\' where id = \u001b[0m\u001b[32m{\u001b[0m\u001b[32mi+1\u001b[0m\u001b[32m}\u001b[0m\u001b[32m\"\"\"\\n'\u001b[0m, \u001b[32m'            c.execute\u001b[0m\u001b[32m(\u001b[0m\u001b[32mupdate\u001b[0m\u001b[32m)\u001b[0m\u001b[32m\\n'\u001b[0m, \u001b[32m'            conn.commit\u001b[0m\u001b[32m(\u001b[0m\u001b[32m)\u001b[0m\u001b[32m\\n'\u001b[0m, \u001b[32m\"          \u001b[0m\n",
       "\u001b[32mprint\u001b[0m\u001b[32m(\u001b[0m\u001b[32mcolorama.Fore.BLUE+f'\u001b[0m\u001b[32m{\u001b[0m\u001b[32mx\u001b[0m\u001b[32m}\u001b[0m\u001b[32m : \u001b[0m\u001b[32m{\u001b[0m\u001b[32mhindi\u001b[0m\u001b[32m}\u001b[0m\u001b[32m','',\u001b[0m\u001b[32msep\u001b[0m\u001b[32m=\u001b[0m\u001b[32mcolorama\u001b[0m\u001b[32m.Style.RESET_ALL\u001b[0m\u001b[32m)\u001b[0m\u001b[32m\\n\"\u001b[0m, \u001b[32m'            time.sleep\u001b[0m\u001b[32m(\u001b[0m\u001b[32m2\u001b[0m\u001b[32m)\u001b[0m\u001b[32m'\u001b[0m\u001b[1m]\u001b[0m'\n"
      ]
     },
     "metadata": {},
     "output_type": "display_data"
    },
    {
     "data": {
      "text/html": [
       "<pre style=\"white-space:pre;overflow-x:auto;line-height:normal;font-family:Menlo,'DejaVu Sans Mono',consolas,'Courier New',monospace\">----------------\n",
       "</pre>\n"
      ],
      "text/plain": [
       "----------------\n"
      ]
     },
     "metadata": {},
     "output_type": "display_data"
    }
   ],
   "source": [
    "notebook_loader = NotebookLoader(path=r\"C:\\Users\\roshan.yadav\\13thWonder\\the_special_nine_day\\Test\\BetterEmbeddingChunkingTechniques\\codebase\\DictionaryDatabase_inerable_gui_based_clicks\\test.ipynb\")\n",
    "notebook_loader.load()\n",
    "notebook_splitter = PythonCodeTextSplitter.from_tiktoken_encoder(encoding_name=\"cl100k_base\", chunk_size=400, chunk_overlap=200)\n",
    "print(notebook_splitter._separators)\n",
    "# chunks = notebook_code.load_and_split(notebook_splitter)\n",
    "chunks = notebook_loader.load_and_split(splitter)\n",
    "for chunk in chunks:\n",
    "    print(chunk.page_content)\n",
    "    print(\"----------------\")"
   ]
  },
  {
   "cell_type": "code",
   "execution_count": 14,
   "metadata": {},
   "outputs": [
    {
     "data": {
      "text/plain": [
       "['\\nclass ', '\\ndef ', '\\n\\tdef ', '\\n\\n', '\\n', ' ', '']"
      ]
     },
     "execution_count": 14,
     "metadata": {},
     "output_type": "execute_result"
    }
   ],
   "source": [
    "RecursiveCharacterTextSplitter.get_separators_for_language(language=Language.PYTHON)"
   ]
  },
  {
   "cell_type": "code",
   "execution_count": 15,
   "metadata": {},
   "outputs": [],
   "source": [
    "from langchain_text_splitters import RecursiveCharacterTextSplitter"
   ]
  },
  {
   "cell_type": "code",
   "execution_count": 16,
   "metadata": {},
   "outputs": [],
   "source": [
    "splitter = RecursiveCharacterTextSplitter.from_tiktoken_encoder(\n",
    "    encoding_name=\"cl100k_base\", chunk_size=400, chunk_overlap=100\n",
    ")"
   ]
  },
  {
   "cell_type": "code",
   "execution_count": 17,
   "metadata": {},
   "outputs": [
    {
     "ename": "NameError",
     "evalue": "name 'files' is not defined",
     "output_type": "error",
     "traceback": [
      "\u001b[1;31m---------------------------------------------------------------------------\u001b[0m",
      "\u001b[1;31mNameError\u001b[0m                                 Traceback (most recent call last)",
      "Cell \u001b[1;32mIn[17], line 1\u001b[0m\n\u001b[1;32m----> 1\u001b[0m \u001b[38;5;28;01mfor\u001b[39;00m content \u001b[38;5;129;01min\u001b[39;00m splitter\u001b[38;5;241m.\u001b[39msplit_text(\u001b[43mfiles\u001b[49m[\u001b[38;5;241m1\u001b[39m]\u001b[38;5;241m.\u001b[39mpage_content):\n\u001b[0;32m      2\u001b[0m     \u001b[38;5;28mprint\u001b[39m(content)\n\u001b[0;32m      3\u001b[0m     \u001b[38;5;28mprint\u001b[39m(\u001b[38;5;124m\"\u001b[39m\u001b[38;5;124m----------------------\u001b[39m\u001b[38;5;124m\"\u001b[39m)\n",
      "\u001b[1;31mNameError\u001b[0m: name 'files' is not defined"
     ]
    }
   ],
   "source": [
    "for content in splitter.split_text(files[1].page_content):\n",
    "    print(content)\n",
    "    print(\"----------------------\")"
   ]
  },
  {
   "cell_type": "code",
   "execution_count": 79,
   "metadata": {},
   "outputs": [],
   "source": [
    "class State(TypedDict):\n",
    "    question: str\n",
    "    context: List[Document]\n",
    "    answer: str\n",
    "    \n",
    "\n",
    "def retriever(state: State):\n",
    "    result=vectore_store.similarity_search(state[\"question\"], k=3)\n",
    "    print(result)\n",
    "    return {\"context\": result}\n",
    "\n",
    "\n",
    "prompt = PromptTemplate.from_template(\n",
    "    \"\"\"\n",
    "You are an assistant for question-answering tasks. Use the following pieces of retrieved context to answer the question. If you don't know the answer, just say that you don't know. Use three sentences maximum and keep the answer concise.\n",
    "Question: {question} \n",
    "Context: {context} \n",
    "Answer:\n",
    "\"\"\"\n",
    ")\n",
    "\n",
    "def addDocumentinPromptAndQuery(state: State):\n",
    "    docs_content = \"\\n\\n\".join(doc.page_content for doc in state[\"context\"])\n",
    "    messages = prompt.invoke({\"question\": state[\"question\"], \"context\": docs_content})\n",
    "    response = model.invoke(messages)\n",
    "    return {\"answer\": response.content}\n",
    "\n",
    "graph_builder = StateGraph(State).add_sequence([retriever, addDocumentinPromptAndQuery])\n",
    "graph_builder.add_edge(START, \"retriever\")\n",
    "graph = graph_builder.compile()"
   ]
  },
  {
   "cell_type": "code",
   "execution_count": 80,
   "metadata": {},
   "outputs": [
    {
     "data": {
      "text/html": [
       "<pre style=\"white-space:pre;overflow-x:auto;line-height:normal;font-family:Menlo,'DejaVu Sans Mono',consolas,'Courier New',monospace\"><span style=\"font-weight: bold\">[]</span>\n",
       "</pre>\n"
      ],
      "text/plain": [
       "\u001b[1m[\u001b[0m\u001b[1m]\u001b[0m\n"
      ]
     },
     "metadata": {},
     "output_type": "display_data"
    },
    {
     "data": {
      "text/html": [
       "<pre style=\"white-space:pre;overflow-x:auto;line-height:normal;font-family:Menlo,'DejaVu Sans Mono',consolas,'Courier New',monospace\">The provided text does not contain information about the packages used in a project.  Therefore, I don't know.\n",
       "\n",
       "</pre>\n"
      ],
      "text/plain": [
       "The provided text does not contain information about the packages used in a project.  Therefore, I don't know.\n",
       "\n"
      ]
     },
     "metadata": {},
     "output_type": "display_data"
    }
   ],
   "source": [
    "response = graph.invoke({\"question\": \"What packages we utilized in this project?\"})\n",
    "print(response[\"answer\"])"
   ]
  }
 ],
 "metadata": {
  "kernelspec": {
   "display_name": "rag",
   "language": "python",
   "name": "python3"
  },
  "language_info": {
   "codemirror_mode": {
    "name": "ipython",
    "version": 3
   },
   "file_extension": ".py",
   "mimetype": "text/x-python",
   "name": "python",
   "nbconvert_exporter": "python",
   "pygments_lexer": "ipython3",
   "version": "3.11.10"
  }
 },
 "nbformat": 4,
 "nbformat_minor": 2
}
