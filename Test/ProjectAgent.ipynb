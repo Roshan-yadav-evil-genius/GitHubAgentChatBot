{
 "cells": [
  {
   "cell_type": "code",
   "execution_count": 15,
   "metadata": {},
   "outputs": [
    {
     "data": {
      "text/plain": [
       "True"
      ]
     },
     "execution_count": 15,
     "metadata": {},
     "output_type": "execute_result"
    }
   ],
   "source": [
    "from langchain_core.messages import AIMessage, HumanMessage, SystemMessage, ToolMessage\n",
    "from langchain_core.tools import tool\n",
    "from langchain_core.tools.structured import StructuredTool\n",
    "from langchain_core.documents import Document\n",
    "from dotenv import load_dotenv\n",
    "from langchain_core.prompts import ChatPromptTemplate\n",
    "from langchain.chains.llm import LLMChain\n",
    "from rich import print\n",
    "import random \n",
    "load_dotenv()"
   ]
  },
  {
   "cell_type": "code",
   "execution_count": 16,
   "metadata": {},
   "outputs": [],
   "source": [
    "from langchain_chroma import Chroma\n",
    "from langchain_ollama import OllamaEmbeddings, ChatOllama\n",
    "\n",
    "from langchain_google_genai import ChatGoogleGenerativeAI\n",
    "\n",
    "\n",
    "model = ChatGoogleGenerativeAI(model=\"gemini-1.5-flash\")\n",
    "model_embedding = OllamaEmbeddings(model=\"nomic-embed-text:latest\")\n",
    "vectore_store = Chroma(embedding_function=model_embedding)"
   ]
  },
  {
   "cell_type": "code",
   "execution_count": 17,
   "metadata": {},
   "outputs": [],
   "source": [
    "import random\n",
    "\n",
    "@tool\n",
    "def proxiie_checker_project_agent(query: str) -> str:\n",
    "    \"\"\"\n",
    "    Provides details about the Proxiie Checker project.\n",
    "\n",
    "    Args:\n",
    "        query (str): A specific query related to the Proxiie Checker project.\n",
    "\n",
    "    Returns:\n",
    "        str: Information or response based on the inquiry.\n",
    "    \"\"\"\n",
    "    return (\n",
    "        \"The Proxiie Checker validates proxy servers by testing their connectivity and performance. \"\n",
    "        \"It ensures reliable proxies for applications requiring anonymity or high availability. \"\n",
    "        \"Example: A proxy with low latency is deemed reliable for fast requests.\"\n",
    "    )\n",
    "\n",
    "@tool\n",
    "def url_shortener_project_agent(query: str) -> str:\n",
    "    \"\"\"\n",
    "    Provides details about the URL Shortener project.\n",
    "\n",
    "    Args:\n",
    "        query (str): A specific query related to the URL Shortener project.\n",
    "\n",
    "    Returns:\n",
    "        str: Information or response based on the inquiry.\n",
    "    \"\"\"\n",
    "    return (\n",
    "        \"The URL Shortener converts long URLs into compact, shareable links. \"\n",
    "        \"It tracks usage statistics and provides easy management of shortened URLs. \"\n",
    "        \"Example: A user can click the shortened link to access detailed analytics.\"\n",
    "    )\n",
    "\n",
    "@tool\n",
    "def telegram_views_reaction_booster_project_agent(query: str) -> str:\n",
    "    \"\"\"\n",
    "    Provides details about the Telegram Views and Reaction Booster project.\n",
    "\n",
    "    Args:\n",
    "        query (str): A specific query related to the Telegram Views and Reaction Booster project.\n",
    "\n",
    "    Returns:\n",
    "        str: Information or response based on the inquiry.\n",
    "    \"\"\"\n",
    "    return (\n",
    "        \"This project increases views and reactions on Telegram channel posts using automation techniques. \"\n",
    "        \"It enhances engagement and reach for posts, making it a valuable tool for Telegram marketers. \"\n",
    "        \"Example: Automatically boosting reactions on a promotional post to increase visibility.\"\n",
    "    )\n",
    "\n",
    "@tool\n",
    "def proxies_crawler_project_agent(query: str) -> str:\n",
    "    \"\"\"\n",
    "    Provides details about the Proxies Crawler project.\n",
    "\n",
    "    Args:\n",
    "        query (str): A specific query related to the Proxies Crawler project.\n",
    "\n",
    "    Returns:\n",
    "        str: Information or response based on the inquiry.\n",
    "    \"\"\"\n",
    "    return (\n",
    "        \"The Proxies Crawler fetches fresh proxy lists from various sources, categorizing them based on speed, \"\n",
    "        \"anonymity, and reliability. It's ideal for maintaining a robust proxy pool. \"\n",
    "        \"Example: A proxy crawler may gather proxies from websites with a 90% success rate.\"\n",
    "    )\n",
    "\n",
    "@tool\n",
    "def proxy_validator_project_agent(query: str) -> str:\n",
    "    \"\"\"\n",
    "    Provides details about the Proxy Validator project.\n",
    "\n",
    "    Args:\n",
    "        query (str): A specific query related to the Proxy Validator project.\n",
    "\n",
    "    Returns:\n",
    "        str: Information or response based on the inquiry.\n",
    "    \"\"\"\n",
    "    # Simulating the validation process.\n",
    "    # In a real scenario, this would perform actual proxy testing.\n",
    "    status = random.choice([\"Valid\", \"Slow\", \"Anonymous\", \"Invalid\", \"High Latency\"])\n",
    "    return f\"Proxy {query} is {status}. Example: Proxy 'http://123.45.67.89' is Valid.\"\n",
    "\n",
    "@tool\n",
    "def url_expander_project_agent(query: str) -> str:\n",
    "    \"\"\"\n",
    "    Provides details about the URL Expander project.\n",
    "\n",
    "    Args:\n",
    "        query (str): A specific query related to the URL Expander project.\n",
    "\n",
    "    Returns:\n",
    "        str: Information or response based on the inquiry.\n",
    "    \"\"\"\n",
    "    # Simulating URL expansion.\n",
    "    # In a real-world scenario, this would query the URL shortening service.\n",
    "    return \"URL Expander: Expanding a shortened URL to its original form, e.g., 'http://short.ly/abc' expands to 'http://www.example.com'.\"\n",
    "\n",
    "@tool\n",
    "def get_weather(location: str) -> str:\n",
    "    \"\"\"\n",
    "    Retrieve the current weather for a specified location.\n",
    "\n",
    "    Args:\n",
    "        location (str): The name of the location for which to retrieve weather information.\n",
    "\n",
    "    Returns:\n",
    "        str: A brief description of the current weather conditions at the specified location.\n",
    "    \"\"\"\n",
    "    if random.choice([True,False]):\n",
    "        return \"The weather is cool and foggy with a mild temperature.\"\n",
    "    else:\n",
    "        return \"The weather is warm and sunny with clear skies.\"\n"
   ]
  },
  {
   "cell_type": "code",
   "execution_count": 18,
   "metadata": {},
   "outputs": [],
   "source": [
    "tools_func = [\n",
    "    get_weather,\n",
    "    url_expander_project_agent,\n",
    "    url_shortener_project_agent,\n",
    "    proxies_crawler_project_agent,\n",
    "    proxiie_checker_project_agent,\n",
    "    proxy_validator_project_agent,\n",
    "    telegram_views_reaction_booster_project_agent\n",
    "]\n",
    "AvailableTools = {tool.name: tool for tool in tools_func}\n",
    "toolDoc = [\n",
    "    Document(\n",
    "        page_content=f\"Tool Name: {tool.name}\\n\\nTool Description:\\n{tool.description}\",\n",
    "        metadata={\"func_name\": tool.name},\n",
    "    )\n",
    "    for tool in tools_func\n",
    "]\n",
    "ids=vectore_store.add_documents(documents=toolDoc)"
   ]
  },
  {
   "cell_type": "code",
   "execution_count": 19,
   "metadata": {},
   "outputs": [],
   "source": [
    "def getValidToolsForQuery(query:str):\n",
    "    finalQuery = f\"Which tool should I use to respond to the query: \\\"{query}\\\"\"\n",
    "    print(f\"{finalQuery=}\")\n",
    "    return vectore_store.similarity_search_with_score(finalQuery,len(tools_func))"
   ]
  },
  {
   "cell_type": "code",
   "execution_count": 37,
   "metadata": {},
   "outputs": [
    {
     "data": {
      "text/html": [
       "<pre style=\"white-space:pre;overflow-x:auto;line-height:normal;font-family:Menlo,'DejaVu Sans Mono',consolas,'Courier New',monospace\"><span style=\"color: #808000; text-decoration-color: #808000\">finalQuery</span>=<span style=\"color: #008000; text-decoration-color: #008000\">'Which tool should I use to respond to the query: \"Could you list all the projects I\\'ve developed?\"'</span>\n",
       "</pre>\n"
      ],
      "text/plain": [
       "\u001b[33mfinalQuery\u001b[0m=\u001b[32m'Which tool should I use to respond to the query: \"Could you list all the projects I\\'ve developed?\"'\u001b[0m\n"
      ]
     },
     "metadata": {},
     "output_type": "display_data"
    },
    {
     "data": {
      "text/html": [
       "<pre style=\"white-space:pre;overflow-x:auto;line-height:normal;font-family:Menlo,'DejaVu Sans Mono',consolas,'Courier New',monospace\"><span style=\"font-weight: bold\">[</span>\n",
       "    <span style=\"font-weight: bold\">(</span>\n",
       "        <span style=\"color: #800080; text-decoration-color: #800080; font-weight: bold\">Document</span><span style=\"font-weight: bold\">(</span>\n",
       "            <span style=\"color: #808000; text-decoration-color: #808000\">metadata</span>=<span style=\"font-weight: bold\">{</span><span style=\"color: #008000; text-decoration-color: #008000\">'func_name'</span>: <span style=\"color: #008000; text-decoration-color: #008000\">'proxiie_checker_project_agent'</span><span style=\"font-weight: bold\">}</span>,\n",
       "            <span style=\"color: #808000; text-decoration-color: #808000\">page_content</span>=<span style=\"color: #008000; text-decoration-color: #008000\">'Tool Name: proxiie_checker_project_agent\\n\\nTool Description:\\nProvides details about the</span>\n",
       "<span style=\"color: #008000; text-decoration-color: #008000\">Proxiie Checker project.\\n\\nArgs:\\n    query (str): A specific query related to the Proxiie Checker </span>\n",
       "<span style=\"color: #008000; text-decoration-color: #008000\">project.\\n\\nReturns:\\n    str: Information or response based on the inquiry.'</span>\n",
       "        <span style=\"font-weight: bold\">)</span>,\n",
       "        <span style=\"color: #008080; text-decoration-color: #008080; font-weight: bold\">0.5708798170089722</span>\n",
       "    <span style=\"font-weight: bold\">)</span>,\n",
       "    <span style=\"font-weight: bold\">(</span>\n",
       "        <span style=\"color: #800080; text-decoration-color: #800080; font-weight: bold\">Document</span><span style=\"font-weight: bold\">(</span>\n",
       "            <span style=\"color: #808000; text-decoration-color: #808000\">metadata</span>=<span style=\"font-weight: bold\">{</span><span style=\"color: #008000; text-decoration-color: #008000\">'func_name'</span>: <span style=\"color: #008000; text-decoration-color: #008000\">'telegram_views_reaction_booster_project_agent'</span><span style=\"font-weight: bold\">}</span>,\n",
       "            <span style=\"color: #808000; text-decoration-color: #808000\">page_content</span>=<span style=\"color: #008000; text-decoration-color: #008000\">'Tool Name: telegram_views_reaction_booster_project_agent\\n\\nTool Description:\\nProvides </span>\n",
       "<span style=\"color: #008000; text-decoration-color: #008000\">details about the Telegram Views and Reaction Booster project.\\n\\nArgs:\\n    query (str): A specific query related </span>\n",
       "<span style=\"color: #008000; text-decoration-color: #008000\">to the Telegram Views and Reaction Booster project.\\n\\nReturns:\\n    str: Information or response based on the </span>\n",
       "<span style=\"color: #008000; text-decoration-color: #008000\">inquiry.'</span>\n",
       "        <span style=\"font-weight: bold\">)</span>,\n",
       "        <span style=\"color: #008080; text-decoration-color: #008080; font-weight: bold\">0.61919766664505</span>\n",
       "    <span style=\"font-weight: bold\">)</span>,\n",
       "    <span style=\"font-weight: bold\">(</span>\n",
       "        <span style=\"color: #800080; text-decoration-color: #800080; font-weight: bold\">Document</span><span style=\"font-weight: bold\">(</span>\n",
       "            <span style=\"color: #808000; text-decoration-color: #808000\">metadata</span>=<span style=\"font-weight: bold\">{</span><span style=\"color: #008000; text-decoration-color: #008000\">'func_name'</span>: <span style=\"color: #008000; text-decoration-color: #008000\">'url_expander_project_agent'</span><span style=\"font-weight: bold\">}</span>,\n",
       "            <span style=\"color: #808000; text-decoration-color: #808000\">page_content</span>=<span style=\"color: #008000; text-decoration-color: #008000\">'Tool Name: url_expander_project_agent\\n\\nTool Description:\\nProvides details about the </span>\n",
       "<span style=\"color: #008000; text-decoration-color: #008000\">URL Expander project.\\n\\nArgs:\\n    query (str): A specific query related to the URL Expander </span>\n",
       "<span style=\"color: #008000; text-decoration-color: #008000\">project.\\n\\nReturns:\\n    str: Information or response based on the inquiry.'</span>\n",
       "        <span style=\"font-weight: bold\">)</span>,\n",
       "        <span style=\"color: #008080; text-decoration-color: #008080; font-weight: bold\">0.6279033422470093</span>\n",
       "    <span style=\"font-weight: bold\">)</span>,\n",
       "    <span style=\"font-weight: bold\">(</span>\n",
       "        <span style=\"color: #800080; text-decoration-color: #800080; font-weight: bold\">Document</span><span style=\"font-weight: bold\">(</span>\n",
       "            <span style=\"color: #808000; text-decoration-color: #808000\">metadata</span>=<span style=\"font-weight: bold\">{</span><span style=\"color: #008000; text-decoration-color: #008000\">'func_name'</span>: <span style=\"color: #008000; text-decoration-color: #008000\">'proxy_validator_project_agent'</span><span style=\"font-weight: bold\">}</span>,\n",
       "            <span style=\"color: #808000; text-decoration-color: #808000\">page_content</span>=<span style=\"color: #008000; text-decoration-color: #008000\">'Tool Name: proxy_validator_project_agent\\n\\nTool Description:\\nProvides details about the</span>\n",
       "<span style=\"color: #008000; text-decoration-color: #008000\">Proxy Validator project.\\n\\nArgs:\\n    query (str): A specific query related to the Proxy Validator </span>\n",
       "<span style=\"color: #008000; text-decoration-color: #008000\">project.\\n\\nReturns:\\n    str: Information or response based on the inquiry.'</span>\n",
       "        <span style=\"font-weight: bold\">)</span>,\n",
       "        <span style=\"color: #008080; text-decoration-color: #008080; font-weight: bold\">0.6404900550842285</span>\n",
       "    <span style=\"font-weight: bold\">)</span>,\n",
       "    <span style=\"font-weight: bold\">(</span>\n",
       "        <span style=\"color: #800080; text-decoration-color: #800080; font-weight: bold\">Document</span><span style=\"font-weight: bold\">(</span>\n",
       "            <span style=\"color: #808000; text-decoration-color: #808000\">metadata</span>=<span style=\"font-weight: bold\">{</span><span style=\"color: #008000; text-decoration-color: #008000\">'func_name'</span>: <span style=\"color: #008000; text-decoration-color: #008000\">'url_shortener_project_agent'</span><span style=\"font-weight: bold\">}</span>,\n",
       "            <span style=\"color: #808000; text-decoration-color: #808000\">page_content</span>=<span style=\"color: #008000; text-decoration-color: #008000\">'Tool Name: url_shortener_project_agent\\n\\nTool Description:\\nProvides details about the </span>\n",
       "<span style=\"color: #008000; text-decoration-color: #008000\">URL Shortener project.\\n\\nArgs:\\n    query (str): A specific query related to the URL Shortener </span>\n",
       "<span style=\"color: #008000; text-decoration-color: #008000\">project.\\n\\nReturns:\\n    str: Information or response based on the inquiry.'</span>\n",
       "        <span style=\"font-weight: bold\">)</span>,\n",
       "        <span style=\"color: #008080; text-decoration-color: #008080; font-weight: bold\">0.6519494652748108</span>\n",
       "    <span style=\"font-weight: bold\">)</span>,\n",
       "    <span style=\"font-weight: bold\">(</span>\n",
       "        <span style=\"color: #800080; text-decoration-color: #800080; font-weight: bold\">Document</span><span style=\"font-weight: bold\">(</span>\n",
       "            <span style=\"color: #808000; text-decoration-color: #808000\">metadata</span>=<span style=\"font-weight: bold\">{</span><span style=\"color: #008000; text-decoration-color: #008000\">'func_name'</span>: <span style=\"color: #008000; text-decoration-color: #008000\">'proxies_crawler_project_agent'</span><span style=\"font-weight: bold\">}</span>,\n",
       "            <span style=\"color: #808000; text-decoration-color: #808000\">page_content</span>=<span style=\"color: #008000; text-decoration-color: #008000\">'Tool Name: proxies_crawler_project_agent\\n\\nTool Description:\\nProvides details about the</span>\n",
       "<span style=\"color: #008000; text-decoration-color: #008000\">Proxies Crawler project.\\n\\nArgs:\\n    query (str): A specific query related to the Proxies Crawler </span>\n",
       "<span style=\"color: #008000; text-decoration-color: #008000\">project.\\n\\nReturns:\\n    str: Information or response based on the inquiry.'</span>\n",
       "        <span style=\"font-weight: bold\">)</span>,\n",
       "        <span style=\"color: #008080; text-decoration-color: #008080; font-weight: bold\">0.6595947742462158</span>\n",
       "    <span style=\"font-weight: bold\">)</span>,\n",
       "    <span style=\"font-weight: bold\">(</span>\n",
       "        <span style=\"color: #800080; text-decoration-color: #800080; font-weight: bold\">Document</span><span style=\"font-weight: bold\">(</span>\n",
       "            <span style=\"color: #808000; text-decoration-color: #808000\">metadata</span>=<span style=\"font-weight: bold\">{</span><span style=\"color: #008000; text-decoration-color: #008000\">'func_name'</span>: <span style=\"color: #008000; text-decoration-color: #008000\">'get_weather'</span><span style=\"font-weight: bold\">}</span>,\n",
       "            <span style=\"color: #808000; text-decoration-color: #808000\">page_content</span>=<span style=\"color: #008000; text-decoration-color: #008000\">'Tool Name: get_weather\\n\\nTool Description:\\nRetrieve the current weather for a specified</span>\n",
       "<span style=\"color: #008000; text-decoration-color: #008000\">location.\\n\\nArgs:\\n    location (str): The name of the location for which to retrieve weather </span>\n",
       "<span style=\"color: #008000; text-decoration-color: #008000\">information.\\n\\nReturns:\\n    str: A brief description of the current weather conditions at the specified </span>\n",
       "<span style=\"color: #008000; text-decoration-color: #008000\">location.'</span>\n",
       "        <span style=\"font-weight: bold\">)</span>,\n",
       "        <span style=\"color: #008080; text-decoration-color: #008080; font-weight: bold\">0.878010630607605</span>\n",
       "    <span style=\"font-weight: bold\">)</span>\n",
       "<span style=\"font-weight: bold\">]</span>\n",
       "</pre>\n"
      ],
      "text/plain": [
       "\u001b[1m[\u001b[0m\n",
       "    \u001b[1m(\u001b[0m\n",
       "        \u001b[1;35mDocument\u001b[0m\u001b[1m(\u001b[0m\n",
       "            \u001b[33mmetadata\u001b[0m=\u001b[1m{\u001b[0m\u001b[32m'func_name'\u001b[0m: \u001b[32m'proxiie_checker_project_agent'\u001b[0m\u001b[1m}\u001b[0m,\n",
       "            \u001b[33mpage_content\u001b[0m=\u001b[32m'Tool Name: proxiie_checker_project_agent\\n\\nTool Description:\\nProvides details about the\u001b[0m\n",
       "\u001b[32mProxiie Checker project.\\n\\nArgs:\\n    query \u001b[0m\u001b[32m(\u001b[0m\u001b[32mstr\u001b[0m\u001b[32m)\u001b[0m\u001b[32m: A specific query related to the Proxiie Checker \u001b[0m\n",
       "\u001b[32mproject.\\n\\nReturns:\\n    str: Information or response based on the inquiry.'\u001b[0m\n",
       "        \u001b[1m)\u001b[0m,\n",
       "        \u001b[1;36m0.5708798170089722\u001b[0m\n",
       "    \u001b[1m)\u001b[0m,\n",
       "    \u001b[1m(\u001b[0m\n",
       "        \u001b[1;35mDocument\u001b[0m\u001b[1m(\u001b[0m\n",
       "            \u001b[33mmetadata\u001b[0m=\u001b[1m{\u001b[0m\u001b[32m'func_name'\u001b[0m: \u001b[32m'telegram_views_reaction_booster_project_agent'\u001b[0m\u001b[1m}\u001b[0m,\n",
       "            \u001b[33mpage_content\u001b[0m=\u001b[32m'Tool Name: telegram_views_reaction_booster_project_agent\\n\\nTool Description:\\nProvides \u001b[0m\n",
       "\u001b[32mdetails about the Telegram Views and Reaction Booster project.\\n\\nArgs:\\n    query \u001b[0m\u001b[32m(\u001b[0m\u001b[32mstr\u001b[0m\u001b[32m)\u001b[0m\u001b[32m: A specific query related \u001b[0m\n",
       "\u001b[32mto the Telegram Views and Reaction Booster project.\\n\\nReturns:\\n    str: Information or response based on the \u001b[0m\n",
       "\u001b[32minquiry.'\u001b[0m\n",
       "        \u001b[1m)\u001b[0m,\n",
       "        \u001b[1;36m0.61919766664505\u001b[0m\n",
       "    \u001b[1m)\u001b[0m,\n",
       "    \u001b[1m(\u001b[0m\n",
       "        \u001b[1;35mDocument\u001b[0m\u001b[1m(\u001b[0m\n",
       "            \u001b[33mmetadata\u001b[0m=\u001b[1m{\u001b[0m\u001b[32m'func_name'\u001b[0m: \u001b[32m'url_expander_project_agent'\u001b[0m\u001b[1m}\u001b[0m,\n",
       "            \u001b[33mpage_content\u001b[0m=\u001b[32m'Tool Name: url_expander_project_agent\\n\\nTool Description:\\nProvides details about the \u001b[0m\n",
       "\u001b[32mURL Expander project.\\n\\nArgs:\\n    query \u001b[0m\u001b[32m(\u001b[0m\u001b[32mstr\u001b[0m\u001b[32m)\u001b[0m\u001b[32m: A specific query related to the URL Expander \u001b[0m\n",
       "\u001b[32mproject.\\n\\nReturns:\\n    str: Information or response based on the inquiry.'\u001b[0m\n",
       "        \u001b[1m)\u001b[0m,\n",
       "        \u001b[1;36m0.6279033422470093\u001b[0m\n",
       "    \u001b[1m)\u001b[0m,\n",
       "    \u001b[1m(\u001b[0m\n",
       "        \u001b[1;35mDocument\u001b[0m\u001b[1m(\u001b[0m\n",
       "            \u001b[33mmetadata\u001b[0m=\u001b[1m{\u001b[0m\u001b[32m'func_name'\u001b[0m: \u001b[32m'proxy_validator_project_agent'\u001b[0m\u001b[1m}\u001b[0m,\n",
       "            \u001b[33mpage_content\u001b[0m=\u001b[32m'Tool Name: proxy_validator_project_agent\\n\\nTool Description:\\nProvides details about the\u001b[0m\n",
       "\u001b[32mProxy Validator project.\\n\\nArgs:\\n    query \u001b[0m\u001b[32m(\u001b[0m\u001b[32mstr\u001b[0m\u001b[32m)\u001b[0m\u001b[32m: A specific query related to the Proxy Validator \u001b[0m\n",
       "\u001b[32mproject.\\n\\nReturns:\\n    str: Information or response based on the inquiry.'\u001b[0m\n",
       "        \u001b[1m)\u001b[0m,\n",
       "        \u001b[1;36m0.6404900550842285\u001b[0m\n",
       "    \u001b[1m)\u001b[0m,\n",
       "    \u001b[1m(\u001b[0m\n",
       "        \u001b[1;35mDocument\u001b[0m\u001b[1m(\u001b[0m\n",
       "            \u001b[33mmetadata\u001b[0m=\u001b[1m{\u001b[0m\u001b[32m'func_name'\u001b[0m: \u001b[32m'url_shortener_project_agent'\u001b[0m\u001b[1m}\u001b[0m,\n",
       "            \u001b[33mpage_content\u001b[0m=\u001b[32m'Tool Name: url_shortener_project_agent\\n\\nTool Description:\\nProvides details about the \u001b[0m\n",
       "\u001b[32mURL Shortener project.\\n\\nArgs:\\n    query \u001b[0m\u001b[32m(\u001b[0m\u001b[32mstr\u001b[0m\u001b[32m)\u001b[0m\u001b[32m: A specific query related to the URL Shortener \u001b[0m\n",
       "\u001b[32mproject.\\n\\nReturns:\\n    str: Information or response based on the inquiry.'\u001b[0m\n",
       "        \u001b[1m)\u001b[0m,\n",
       "        \u001b[1;36m0.6519494652748108\u001b[0m\n",
       "    \u001b[1m)\u001b[0m,\n",
       "    \u001b[1m(\u001b[0m\n",
       "        \u001b[1;35mDocument\u001b[0m\u001b[1m(\u001b[0m\n",
       "            \u001b[33mmetadata\u001b[0m=\u001b[1m{\u001b[0m\u001b[32m'func_name'\u001b[0m: \u001b[32m'proxies_crawler_project_agent'\u001b[0m\u001b[1m}\u001b[0m,\n",
       "            \u001b[33mpage_content\u001b[0m=\u001b[32m'Tool Name: proxies_crawler_project_agent\\n\\nTool Description:\\nProvides details about the\u001b[0m\n",
       "\u001b[32mProxies Crawler project.\\n\\nArgs:\\n    query \u001b[0m\u001b[32m(\u001b[0m\u001b[32mstr\u001b[0m\u001b[32m)\u001b[0m\u001b[32m: A specific query related to the Proxies Crawler \u001b[0m\n",
       "\u001b[32mproject.\\n\\nReturns:\\n    str: Information or response based on the inquiry.'\u001b[0m\n",
       "        \u001b[1m)\u001b[0m,\n",
       "        \u001b[1;36m0.6595947742462158\u001b[0m\n",
       "    \u001b[1m)\u001b[0m,\n",
       "    \u001b[1m(\u001b[0m\n",
       "        \u001b[1;35mDocument\u001b[0m\u001b[1m(\u001b[0m\n",
       "            \u001b[33mmetadata\u001b[0m=\u001b[1m{\u001b[0m\u001b[32m'func_name'\u001b[0m: \u001b[32m'get_weather'\u001b[0m\u001b[1m}\u001b[0m,\n",
       "            \u001b[33mpage_content\u001b[0m=\u001b[32m'Tool Name: get_weather\\n\\nTool Description:\\nRetrieve the current weather for a specified\u001b[0m\n",
       "\u001b[32mlocation.\\n\\nArgs:\\n    location \u001b[0m\u001b[32m(\u001b[0m\u001b[32mstr\u001b[0m\u001b[32m)\u001b[0m\u001b[32m: The name of the location for which to retrieve weather \u001b[0m\n",
       "\u001b[32minformation.\\n\\nReturns:\\n    str: A brief description of the current weather conditions at the specified \u001b[0m\n",
       "\u001b[32mlocation.'\u001b[0m\n",
       "        \u001b[1m)\u001b[0m,\n",
       "        \u001b[1;36m0.878010630607605\u001b[0m\n",
       "    \u001b[1m)\u001b[0m\n",
       "\u001b[1m]\u001b[0m\n"
      ]
     },
     "metadata": {},
     "output_type": "display_data"
    },
    {
     "data": {
      "text/plain": [
       "[(Document(metadata={'func_name': 'proxiie_checker_project_agent'}, page_content='Tool Name: proxiie_checker_project_agent\\n\\nTool Description:\\nProvides details about the Proxiie Checker project.\\n\\nArgs:\\n    query (str): A specific query related to the Proxiie Checker project.\\n\\nReturns:\\n    str: Information or response based on the inquiry.'),\n",
       "  0.5708798170089722),\n",
       " (Document(metadata={'func_name': 'telegram_views_reaction_booster_project_agent'}, page_content='Tool Name: telegram_views_reaction_booster_project_agent\\n\\nTool Description:\\nProvides details about the Telegram Views and Reaction Booster project.\\n\\nArgs:\\n    query (str): A specific query related to the Telegram Views and Reaction Booster project.\\n\\nReturns:\\n    str: Information or response based on the inquiry.'),\n",
       "  0.61919766664505),\n",
       " (Document(metadata={'func_name': 'url_expander_project_agent'}, page_content='Tool Name: url_expander_project_agent\\n\\nTool Description:\\nProvides details about the URL Expander project.\\n\\nArgs:\\n    query (str): A specific query related to the URL Expander project.\\n\\nReturns:\\n    str: Information or response based on the inquiry.'),\n",
       "  0.6279033422470093),\n",
       " (Document(metadata={'func_name': 'proxy_validator_project_agent'}, page_content='Tool Name: proxy_validator_project_agent\\n\\nTool Description:\\nProvides details about the Proxy Validator project.\\n\\nArgs:\\n    query (str): A specific query related to the Proxy Validator project.\\n\\nReturns:\\n    str: Information or response based on the inquiry.'),\n",
       "  0.6404900550842285)]"
      ]
     },
     "execution_count": 37,
     "metadata": {},
     "output_type": "execute_result"
    }
   ],
   "source": [
    "resp=getValidToolsForQuery(\"Could you list all the projects I've developed?\")\n",
    "print(resp)\n",
    "score = [(doc,score) for doc,score in resp if round(score,1)==round(resp[0][1],1)]\n",
    "score\n"
   ]
  },
  {
   "cell_type": "code",
   "execution_count": 34,
   "metadata": {},
   "outputs": [
    {
     "data": {
      "text/html": [
       "<pre style=\"white-space:pre;overflow-x:auto;line-height:normal;font-family:Menlo,'DejaVu Sans Mono',consolas,'Courier New',monospace\"><span style=\"color: #808000; text-decoration-color: #808000\">finalQuery</span>=<span style=\"color: #008000; text-decoration-color: #008000\">'Which tool should I use to respond to the query: \"what is the issue with checker?\"'</span>\n",
       "</pre>\n"
      ],
      "text/plain": [
       "\u001b[33mfinalQuery\u001b[0m=\u001b[32m'Which tool should I use to respond to the query: \"what is the issue with checker?\"'\u001b[0m\n"
      ]
     },
     "metadata": {},
     "output_type": "display_data"
    },
    {
     "data": {
      "text/html": [
       "<pre style=\"white-space:pre;overflow-x:auto;line-height:normal;font-family:Menlo,'DejaVu Sans Mono',consolas,'Courier New',monospace\"><span style=\"color: #808000; text-decoration-color: #808000\">finalQuery</span>=<span style=\"color: #008000; text-decoration-color: #008000\">'Which tool should I use to respond to the query: \"what is the issue with checker?\"'</span>\n",
       "</pre>\n"
      ],
      "text/plain": [
       "\u001b[33mfinalQuery\u001b[0m=\u001b[32m'Which tool should I use to respond to the query: \"what is the issue with checker?\"'\u001b[0m\n"
      ]
     },
     "metadata": {},
     "output_type": "display_data"
    },
    {
     "data": {
      "text/html": [
       "<pre style=\"white-space:pre;overflow-x:auto;line-height:normal;font-family:Menlo,'DejaVu Sans Mono',consolas,'Courier New',monospace\"><span style=\"font-weight: bold\">[</span><span style=\"color: #008080; text-decoration-color: #008080; font-weight: bold\">0.6</span>, <span style=\"color: #008080; text-decoration-color: #008080; font-weight: bold\">0.7</span>, <span style=\"color: #008080; text-decoration-color: #008080; font-weight: bold\">0.7</span>, <span style=\"color: #008080; text-decoration-color: #008080; font-weight: bold\">0.7</span>, <span style=\"color: #008080; text-decoration-color: #008080; font-weight: bold\">0.7</span>, <span style=\"color: #008080; text-decoration-color: #008080; font-weight: bold\">0.7</span>, <span style=\"color: #008080; text-decoration-color: #008080; font-weight: bold\">0.9</span><span style=\"font-weight: bold\">]</span>\n",
       "</pre>\n"
      ],
      "text/plain": [
       "\u001b[1m[\u001b[0m\u001b[1;36m0.6\u001b[0m, \u001b[1;36m0.7\u001b[0m, \u001b[1;36m0.7\u001b[0m, \u001b[1;36m0.7\u001b[0m, \u001b[1;36m0.7\u001b[0m, \u001b[1;36m0.7\u001b[0m, \u001b[1;36m0.9\u001b[0m\u001b[1m]\u001b[0m\n"
      ]
     },
     "metadata": {},
     "output_type": "display_data"
    },
    {
     "data": {
      "text/plain": [
       "[0.6, 0.7]"
      ]
     },
     "execution_count": 34,
     "metadata": {},
     "output_type": "execute_result"
    }
   ],
   "source": [
    "getValidToolsForQuery(\"what is the issue with checker?\")"
   ]
  },
  {
   "cell_type": "code",
   "execution_count": 22,
   "metadata": {},
   "outputs": [
    {
     "data": {
      "text/html": [
       "<pre style=\"white-space:pre;overflow-x:auto;line-height:normal;font-family:Menlo,'DejaVu Sans Mono',consolas,'Courier New',monospace\"><span style=\"color: #808000; text-decoration-color: #808000\">finalQuery</span>=<span style=\"color: #008000; text-decoration-color: #008000\">'Which tool should I use to respond to the query: \"what is the issue with Bridgeskillz Frontend\"'</span>\n",
       "</pre>\n"
      ],
      "text/plain": [
       "\u001b[33mfinalQuery\u001b[0m=\u001b[32m'Which tool should I use to respond to the query: \"what is the issue with Bridgeskillz Frontend\"'\u001b[0m\n"
      ]
     },
     "metadata": {},
     "output_type": "display_data"
    },
    {
     "data": {
      "text/plain": [
       "[(Document(metadata={'func_name': 'telegram_views_reaction_booster_project_agent'}, page_content='Tool Name: telegram_views_reaction_booster_project_agent\\n\\nTool Description:\\nProvides details about the Telegram Views and Reaction Booster project.\\n\\nArgs:\\n    query (str): A specific query related to the Telegram Views and Reaction Booster project.\\n\\nReturns:\\n    str: Information or response based on the inquiry.'),\n",
       "  0.6773781180381775),\n",
       " (Document(metadata={'func_name': 'proxies_crawler_project_agent'}, page_content='Tool Name: proxies_crawler_project_agent\\n\\nTool Description:\\nProvides details about the Proxies Crawler project.\\n\\nArgs:\\n    query (str): A specific query related to the Proxies Crawler project.\\n\\nReturns:\\n    str: Information or response based on the inquiry.'),\n",
       "  0.6871808171272278),\n",
       " (Document(metadata={'func_name': 'proxiie_checker_project_agent'}, page_content='Tool Name: proxiie_checker_project_agent\\n\\nTool Description:\\nProvides details about the Proxiie Checker project.\\n\\nArgs:\\n    query (str): A specific query related to the Proxiie Checker project.\\n\\nReturns:\\n    str: Information or response based on the inquiry.'),\n",
       "  0.6927619576454163),\n",
       " (Document(metadata={'func_name': 'proxy_validator_project_agent'}, page_content='Tool Name: proxy_validator_project_agent\\n\\nTool Description:\\nProvides details about the Proxy Validator project.\\n\\nArgs:\\n    query (str): A specific query related to the Proxy Validator project.\\n\\nReturns:\\n    str: Information or response based on the inquiry.'),\n",
       "  0.724151611328125),\n",
       " (Document(metadata={'func_name': 'url_expander_project_agent'}, page_content='Tool Name: url_expander_project_agent\\n\\nTool Description:\\nProvides details about the URL Expander project.\\n\\nArgs:\\n    query (str): A specific query related to the URL Expander project.\\n\\nReturns:\\n    str: Information or response based on the inquiry.'),\n",
       "  0.7335288524627686),\n",
       " (Document(metadata={'func_name': 'url_shortener_project_agent'}, page_content='Tool Name: url_shortener_project_agent\\n\\nTool Description:\\nProvides details about the URL Shortener project.\\n\\nArgs:\\n    query (str): A specific query related to the URL Shortener project.\\n\\nReturns:\\n    str: Information or response based on the inquiry.'),\n",
       "  0.7455698847770691),\n",
       " (Document(metadata={'func_name': 'get_weather'}, page_content='Tool Name: get_weather\\n\\nTool Description:\\nRetrieve the current weather for a specified location.\\n\\nArgs:\\n    location (str): The name of the location for which to retrieve weather information.\\n\\nReturns:\\n    str: A brief description of the current weather conditions at the specified location.'),\n",
       "  0.8704321980476379)]"
      ]
     },
     "execution_count": 22,
     "metadata": {},
     "output_type": "execute_result"
    }
   ],
   "source": [
    "getValidToolsForQuery(\"what is the issue with Bridgeskillz Frontend\")"
   ]
  },
  {
   "cell_type": "code",
   "execution_count": 23,
   "metadata": {},
   "outputs": [
    {
     "data": {
      "text/html": [
       "<pre style=\"white-space:pre;overflow-x:auto;line-height:normal;font-family:Menlo,'DejaVu Sans Mono',consolas,'Courier New',monospace\"><span style=\"color: #808000; text-decoration-color: #808000\">finalQuery</span>=<span style=\"color: #008000; text-decoration-color: #008000\">'Which tool should I use to respond to the query: \"Could you list all the projects I\\'ve developed with </span>\n",
       "<span style=\"color: #008000; text-decoration-color: #008000\">short description?\"'</span>\n",
       "</pre>\n"
      ],
      "text/plain": [
       "\u001b[33mfinalQuery\u001b[0m=\u001b[32m'Which tool should I use to respond to the query: \"Could you list all the projects I\\'ve developed with \u001b[0m\n",
       "\u001b[32mshort description?\"'\u001b[0m\n"
      ]
     },
     "metadata": {},
     "output_type": "display_data"
    },
    {
     "data": {
      "text/plain": [
       "[(Document(metadata={'func_name': 'proxiie_checker_project_agent'}, page_content='Tool Name: proxiie_checker_project_agent\\n\\nTool Description:\\nProvides details about the Proxiie Checker project.\\n\\nArgs:\\n    query (str): A specific query related to the Proxiie Checker project.\\n\\nReturns:\\n    str: Information or response based on the inquiry.'),\n",
       "  0.552953839302063),\n",
       " (Document(metadata={'func_name': 'url_shortener_project_agent'}, page_content='Tool Name: url_shortener_project_agent\\n\\nTool Description:\\nProvides details about the URL Shortener project.\\n\\nArgs:\\n    query (str): A specific query related to the URL Shortener project.\\n\\nReturns:\\n    str: Information or response based on the inquiry.'),\n",
       "  0.5695796012878418),\n",
       " (Document(metadata={'func_name': 'url_expander_project_agent'}, page_content='Tool Name: url_expander_project_agent\\n\\nTool Description:\\nProvides details about the URL Expander project.\\n\\nArgs:\\n    query (str): A specific query related to the URL Expander project.\\n\\nReturns:\\n    str: Information or response based on the inquiry.'),\n",
       "  0.5912456512451172),\n",
       " (Document(metadata={'func_name': 'telegram_views_reaction_booster_project_agent'}, page_content='Tool Name: telegram_views_reaction_booster_project_agent\\n\\nTool Description:\\nProvides details about the Telegram Views and Reaction Booster project.\\n\\nArgs:\\n    query (str): A specific query related to the Telegram Views and Reaction Booster project.\\n\\nReturns:\\n    str: Information or response based on the inquiry.'),\n",
       "  0.5935044884681702),\n",
       " (Document(metadata={'func_name': 'proxy_validator_project_agent'}, page_content='Tool Name: proxy_validator_project_agent\\n\\nTool Description:\\nProvides details about the Proxy Validator project.\\n\\nArgs:\\n    query (str): A specific query related to the Proxy Validator project.\\n\\nReturns:\\n    str: Information or response based on the inquiry.'),\n",
       "  0.6329851150512695),\n",
       " (Document(metadata={'func_name': 'proxies_crawler_project_agent'}, page_content='Tool Name: proxies_crawler_project_agent\\n\\nTool Description:\\nProvides details about the Proxies Crawler project.\\n\\nArgs:\\n    query (str): A specific query related to the Proxies Crawler project.\\n\\nReturns:\\n    str: Information or response based on the inquiry.'),\n",
       "  0.6403018832206726),\n",
       " (Document(metadata={'func_name': 'get_weather'}, page_content='Tool Name: get_weather\\n\\nTool Description:\\nRetrieve the current weather for a specified location.\\n\\nArgs:\\n    location (str): The name of the location for which to retrieve weather information.\\n\\nReturns:\\n    str: A brief description of the current weather conditions at the specified location.'),\n",
       "  0.8437045216560364)]"
      ]
     },
     "execution_count": 23,
     "metadata": {},
     "output_type": "execute_result"
    }
   ],
   "source": [
    "getValidToolsForQuery(\"Could you list all the projects I've developed with short description?\")"
   ]
  },
  {
   "cell_type": "code",
   "execution_count": 24,
   "metadata": {},
   "outputs": [
    {
     "data": {
      "text/html": [
       "<pre style=\"white-space:pre;overflow-x:auto;line-height:normal;font-family:Menlo,'DejaVu Sans Mono',consolas,'Courier New',monospace\"><span style=\"color: #808000; text-decoration-color: #808000\">finalQuery</span>=<span style=\"color: #008000; text-decoration-color: #008000\">'Which tool should I use to respond to the query: \"What is my name?\"'</span>\n",
       "</pre>\n"
      ],
      "text/plain": [
       "\u001b[33mfinalQuery\u001b[0m=\u001b[32m'Which tool should I use to respond to the query: \"What is my name?\"'\u001b[0m\n"
      ]
     },
     "metadata": {},
     "output_type": "display_data"
    },
    {
     "data": {
      "text/plain": [
       "[(Document(metadata={'func_name': 'url_shortener_project_agent'}, page_content='Tool Name: url_shortener_project_agent\\n\\nTool Description:\\nProvides details about the URL Shortener project.\\n\\nArgs:\\n    query (str): A specific query related to the URL Shortener project.\\n\\nReturns:\\n    str: Information or response based on the inquiry.'),\n",
       "  0.7314081788063049),\n",
       " (Document(metadata={'func_name': 'proxiie_checker_project_agent'}, page_content='Tool Name: proxiie_checker_project_agent\\n\\nTool Description:\\nProvides details about the Proxiie Checker project.\\n\\nArgs:\\n    query (str): A specific query related to the Proxiie Checker project.\\n\\nReturns:\\n    str: Information or response based on the inquiry.'),\n",
       "  0.7348573207855225),\n",
       " (Document(metadata={'func_name': 'telegram_views_reaction_booster_project_agent'}, page_content='Tool Name: telegram_views_reaction_booster_project_agent\\n\\nTool Description:\\nProvides details about the Telegram Views and Reaction Booster project.\\n\\nArgs:\\n    query (str): A specific query related to the Telegram Views and Reaction Booster project.\\n\\nReturns:\\n    str: Information or response based on the inquiry.'),\n",
       "  0.7421955466270447),\n",
       " (Document(metadata={'func_name': 'url_expander_project_agent'}, page_content='Tool Name: url_expander_project_agent\\n\\nTool Description:\\nProvides details about the URL Expander project.\\n\\nArgs:\\n    query (str): A specific query related to the URL Expander project.\\n\\nReturns:\\n    str: Information or response based on the inquiry.'),\n",
       "  0.7547043561935425),\n",
       " (Document(metadata={'func_name': 'proxy_validator_project_agent'}, page_content='Tool Name: proxy_validator_project_agent\\n\\nTool Description:\\nProvides details about the Proxy Validator project.\\n\\nArgs:\\n    query (str): A specific query related to the Proxy Validator project.\\n\\nReturns:\\n    str: Information or response based on the inquiry.'),\n",
       "  0.7582963109016418),\n",
       " (Document(metadata={'func_name': 'proxies_crawler_project_agent'}, page_content='Tool Name: proxies_crawler_project_agent\\n\\nTool Description:\\nProvides details about the Proxies Crawler project.\\n\\nArgs:\\n    query (str): A specific query related to the Proxies Crawler project.\\n\\nReturns:\\n    str: Information or response based on the inquiry.'),\n",
       "  0.7627230882644653),\n",
       " (Document(metadata={'func_name': 'get_weather'}, page_content='Tool Name: get_weather\\n\\nTool Description:\\nRetrieve the current weather for a specified location.\\n\\nArgs:\\n    location (str): The name of the location for which to retrieve weather information.\\n\\nReturns:\\n    str: A brief description of the current weather conditions at the specified location.'),\n",
       "  0.9138393402099609)]"
      ]
     },
     "execution_count": 24,
     "metadata": {},
     "output_type": "execute_result"
    }
   ],
   "source": [
    "getValidToolsForQuery(\"What is my name?\")"
   ]
  },
  {
   "cell_type": "code",
   "execution_count": 25,
   "metadata": {},
   "outputs": [],
   "source": [
    "prompt = ChatPromptTemplate(\n",
    "    [\n",
    "        SystemMessage(\n",
    "            content=\"You are ProjectHub, an assistant that knows all of Roshan Yadav's projects, helping to describe, manage, debug, and enhance them while providing technical and communication support.\"\n",
    "        ),\n",
    "        HumanMessage(\n",
    "            content=\"Could you please list all the projects I have developed? i not need \"\n",
    "        ),\n",
    "    ]\n",
    ")\n",
    "\n"
   ]
  },
  {
   "cell_type": "code",
   "execution_count": 26,
   "metadata": {},
   "outputs": [],
   "source": [
    "# chain = prompt | model.bind_tools(tools_func)\n",
    "# resp = chain.invoke({})\n",
    "# resp.pretty_print()"
   ]
  },
  {
   "cell_type": "code",
   "execution_count": 27,
   "metadata": {},
   "outputs": [],
   "source": [
    "# vectore_store.delete(ids)"
   ]
  }
 ],
 "metadata": {
  "kernelspec": {
   "display_name": "rag",
   "language": "python",
   "name": "python3"
  },
  "language_info": {
   "codemirror_mode": {
    "name": "ipython",
    "version": 3
   },
   "file_extension": ".py",
   "mimetype": "text/x-python",
   "name": "python",
   "nbconvert_exporter": "python",
   "pygments_lexer": "ipython3",
   "version": "3.11.10"
  }
 },
 "nbformat": 4,
 "nbformat_minor": 2
}
