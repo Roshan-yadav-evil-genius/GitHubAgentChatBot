{
 "cells": [
  {
   "cell_type": "code",
   "execution_count": 1,
   "metadata": {},
   "outputs": [
    {
     "name": "stderr",
     "output_type": "stream",
     "text": [
      "c:\\Users\\roshan.yadav\\AppData\\Local\\anaconda3\\envs\\rag\\Lib\\site-packages\\tqdm\\auto.py:21: TqdmWarning: IProgress not found. Please update jupyter and ipywidgets. See https://ipywidgets.readthedocs.io/en/stable/user_install.html\n",
      "  from .autonotebook import tqdm as notebook_tqdm\n"
     ]
    },
    {
     "data": {
      "text/plain": [
       "True"
      ]
     },
     "execution_count": 1,
     "metadata": {},
     "output_type": "execute_result"
    }
   ],
   "source": [
    "from langchain_core.messages import AIMessage, HumanMessage, SystemMessage, ToolMessage\n",
    "from langchain_core.tools import tool\n",
    "from langchain_core.tools.structured import StructuredTool\n",
    "from langchain_core.documents import Document\n",
    "from dotenv import load_dotenv\n",
    "from langchain_core.prompts import ChatPromptTemplate\n",
    "from langchain.chains.llm import LLMChain\n",
    "from rich import print\n",
    "import random\n",
    "from langchain_text_splitters import RecursiveCharacterTextSplitter\n",
    "from langchain_community.document_loaders import (\n",
    "    UnstructuredMarkdownLoader,\n",
    "    DirectoryLoader,\n",
    "    PythonLoader,\n",
    ")\n",
    "from langchain_chroma import Chroma\n",
    "import chromadb\n",
    "from langchain_ollama import OllamaEmbeddings, ChatOllama\n",
    "from langchain_google_genai import ChatGoogleGenerativeAI\n",
    "from pydantic import BaseModel, Field\n",
    "from langchain_core.tools import StructuredTool\n",
    "from typing import List, Dict\n",
    "from glob import glob\n",
    "\n",
    "load_dotenv()"
   ]
  },
  {
   "cell_type": "code",
   "execution_count": 2,
   "metadata": {},
   "outputs": [],
   "source": [
    "model = ChatGoogleGenerativeAI(model=\"gemini-1.5-flash\")\n",
    "model_embedding = OllamaEmbeddings(model=\"nomic-embed-text:latest\")\n",
    "# vectore_store = Chroma(embedding_function=model_embedding)\n",
    "persistent_client = chromadb.PersistentClient()"
   ]
  },
  {
   "cell_type": "code",
   "execution_count": 1,
   "metadata": {},
   "outputs": [
    {
     "ename": "NameError",
     "evalue": "name 'Dict' is not defined",
     "output_type": "error",
     "traceback": [
      "\u001b[1;31m---------------------------------------------------------------------------\u001b[0m",
      "\u001b[1;31mNameError\u001b[0m                                 Traceback (most recent call last)",
      "Cell \u001b[1;32mIn[1], line 1\u001b[0m\n\u001b[1;32m----> 1\u001b[0m tools: \u001b[43mDict\u001b[49m[\u001b[38;5;28mstr\u001b[39m, StructuredTool] \u001b[38;5;241m=\u001b[39m []\n",
      "\u001b[1;31mNameError\u001b[0m: name 'Dict' is not defined"
     ]
    }
   ],
   "source": [
    "tools: Dict[str, StructuredTool] = []"
   ]
  },
  {
   "cell_type": "code",
   "execution_count": 3,
   "metadata": {},
   "outputs": [],
   "source": [
    "def project_agent(agent_name: str, query: str) -> str:\n",
    "    accessable_tools = []\n",
    "    project_hub_agent_tools = Chroma(\n",
    "        client=persistent_client,\n",
    "        collection_name=\"project_hub_agent_tools\",\n",
    "        embedding_function=model_embedding,\n",
    "    )\n",
    "\n",
    "    finalQuery = f\"Which tool should I use to respond to the query: \\\"{query}\\\"\"\n",
    "    print(f\"{finalQuery=}\")\n",
    "    validTools = project_hub_agent_tools.similarity_search_with_score(finalQuery)\n",
    "    for function in related_tools:\n",
    "        tool_name = function.metadata.get(\"func_name\")\n",
    "        accessable_tools.append(tools[tool_name])\n",
    "    print(f\"{agent_name=}\\n{query=}\")\n",
    "    return \"ok\""
   ]
  },
  {
   "cell_type": "code",
   "execution_count": 4,
   "metadata": {},
   "outputs": [],
   "source": [
    "def embedd_all_files(project_path: str, collection_name: str):\n",
    "    markdown_loader = DirectoryLoader(\n",
    "        project_path,\n",
    "        glob=\"**/*.md\",\n",
    "        loader_cls=UnstructuredMarkdownLoader,\n",
    "        show_progress=True,\n",
    "        use_multithreading=True,\n",
    "    )\n",
    "\n",
    "    python_loader = DirectoryLoader(\n",
    "        project_path,\n",
    "        glob=\"**/*.py\",\n",
    "        loader_cls=PythonLoader,\n",
    "        show_progress=True,\n",
    "        use_multithreading=True,\n",
    "    )\n",
    "    docs = markdown_loader.load() + python_loader.load()\n",
    "    doc_sources = [doc.metadata[\"source\"] for doc in docs]\n",
    "    print(doc_sources)\n",
    "    text_splitter = RecursiveCharacterTextSplitter(chunk_size=1000, chunk_overlap=200)\n",
    "    smaller_documents = text_splitter.split_documents(docs)\n",
    "    vector_store_from_client = Chroma(\n",
    "        client=persistent_client,\n",
    "        collection_name=collection_name,\n",
    "        embedding_function=model_embedding,\n",
    "    )\n",
    "    vector_store_from_client.add_documents(documents=smaller_documents)"
   ]
  },
  {
   "cell_type": "code",
   "execution_count": 5,
   "metadata": {},
   "outputs": [],
   "source": [
    "def create_project_agent(agent_name: str, agent_description: str):\n",
    "    class ProjectAgentInput(BaseModel):\n",
    "        query: str = Field(description=\"A specific query related to the project.\")\n",
    "\n",
    "    agent = StructuredTool.from_function(\n",
    "        func=lambda query: project_agent(agent_name, query),\n",
    "        name=agent_name,\n",
    "        description=agent_description,\n",
    "        args_schema=ProjectAgentInput,\n",
    "    )\n",
    "\n",
    "    return agent"
   ]
  },
  {
   "cell_type": "code",
   "execution_count": 6,
   "metadata": {},
   "outputs": [
    {
     "name": "stderr",
     "output_type": "stream",
     "text": [
      "100%|██████████| 1/1 [00:03<00:00,  3.61s/it]\n",
      "100%|██████████| 5/5 [00:00<00:00, 945.05it/s]\n"
     ]
    },
    {
     "data": {
      "text/html": [
       "<pre style=\"white-space:pre;overflow-x:auto;line-height:normal;font-family:Menlo,'DejaVu Sans Mono',consolas,'Courier New',monospace\"><span style=\"font-weight: bold\">[</span>\n",
       "    <span style=\"color: #008000; text-decoration-color: #008000\">'Github\\\\Auto_Dictionary_database_creator_tool\\\\README.md'</span>,\n",
       "    <span style=\"color: #008000; text-decoration-color: #008000\">'Github\\\\Auto_Dictionary_database_creator_tool\\\\DictionaryDatabase_Advanced_scrape_without_clicks\\\\custom_funct</span>\n",
       "<span style=\"color: #008000; text-decoration-color: #008000\">ion.py'</span>,\n",
       "    <span style=\"color: #008000; text-decoration-color: #008000\">'Github\\\\Auto_Dictionary_database_creator_tool\\\\DictionaryDatabase_inerable_gui_based_clicks\\\\main.py'</span>,\n",
       "    <span style=\"color: #008000; text-decoration-color: #008000\">'Github\\\\Auto_Dictionary_database_creator_tool\\\\DictionaryDatabase_Advanced_scrape_without_clicks\\\\Google_Trans</span>\n",
       "<span style=\"color: #008000; text-decoration-color: #008000\">late_Scrape.py'</span>,\n",
       "    <span style=\"color: #008000; text-decoration-color: #008000\">'Github\\\\Auto_Dictionary_database_creator_tool\\\\DictionaryDatabase_inerable_gui_based_clicks\\\\test\\\\test.py'</span>,\n",
       "    <span style=\"color: #008000; text-decoration-color: #008000\">'Github\\\\Auto_Dictionary_database_creator_tool\\\\Fetch_dictionary_to_json\\\\fetch_wordlist_to json.py'</span>\n",
       "<span style=\"font-weight: bold\">]</span>\n",
       "</pre>\n"
      ],
      "text/plain": [
       "\u001b[1m[\u001b[0m\n",
       "    \u001b[32m'Github\\\\Auto_Dictionary_database_creator_tool\\\\README.md'\u001b[0m,\n",
       "    \u001b[32m'Github\\\\Auto_Dictionary_database_creator_tool\\\\DictionaryDatabase_Advanced_scrape_without_clicks\\\\custom_funct\u001b[0m\n",
       "\u001b[32mion.py'\u001b[0m,\n",
       "    \u001b[32m'Github\\\\Auto_Dictionary_database_creator_tool\\\\DictionaryDatabase_inerable_gui_based_clicks\\\\main.py'\u001b[0m,\n",
       "    \u001b[32m'Github\\\\Auto_Dictionary_database_creator_tool\\\\DictionaryDatabase_Advanced_scrape_without_clicks\\\\Google_Trans\u001b[0m\n",
       "\u001b[32mlate_Scrape.py'\u001b[0m,\n",
       "    \u001b[32m'Github\\\\Auto_Dictionary_database_creator_tool\\\\DictionaryDatabase_inerable_gui_based_clicks\\\\test\\\\test.py'\u001b[0m,\n",
       "    \u001b[32m'Github\\\\Auto_Dictionary_database_creator_tool\\\\Fetch_dictionary_to_json\\\\fetch_wordlist_to json.py'\u001b[0m\n",
       "\u001b[1m]\u001b[0m\n"
      ]
     },
     "metadata": {},
     "output_type": "display_data"
    },
    {
     "name": "stderr",
     "output_type": "stream",
     "text": [
      "100%|██████████| 1/1 [00:00<00:00, 104.51it/s]\n",
      "100%|██████████| 1/1 [00:00<00:00, 501.59it/s]\n"
     ]
    },
    {
     "data": {
      "text/html": [
       "<pre style=\"white-space:pre;overflow-x:auto;line-height:normal;font-family:Menlo,'DejaVu Sans Mono',consolas,'Courier New',monospace\"><span style=\"font-weight: bold\">[</span><span style=\"color: #008000; text-decoration-color: #008000\">'Github\\\\Plant-monitoring-system\\\\README.md'</span>, <span style=\"color: #008000; text-decoration-color: #008000\">'Github\\\\Plant-monitoring-system\\\\main.py'</span><span style=\"font-weight: bold\">]</span>\n",
       "</pre>\n"
      ],
      "text/plain": [
       "\u001b[1m[\u001b[0m\u001b[32m'Github\\\\Plant-monitoring-system\\\\README.md'\u001b[0m, \u001b[32m'Github\\\\Plant-monitoring-system\\\\main.py'\u001b[0m\u001b[1m]\u001b[0m\n"
      ]
     },
     "metadata": {},
     "output_type": "display_data"
    },
    {
     "data": {
      "text/plain": [
       "['93f71973-71a3-453e-9967-395f74603121',\n",
       " '2d5c7860-7976-43c0-8d3e-d4ca18cc3e44']"
      ]
     },
     "execution_count": 6,
     "metadata": {},
     "output_type": "execute_result"
    }
   ],
   "source": [
    "vector_store_from_client = Chroma(\n",
    "    client=persistent_client,\n",
    "    collection_name=\"project_hub_agent_tools\",\n",
    "    embedding_function=model_embedding,\n",
    ")\n",
    "for project_path in glob(\"./Github/*\"):\n",
    "    project_name = project_path.split(\"\\\\\")[-1]\n",
    "    agent_name = project_name.replace(\"-\", \"_\").lower() + \"_project_agent\"\n",
    "    tool_short_desc = f\"Provides details about {project_name} project.\"\n",
    "    about_project_filepath = glob(f\"{project_path}/*.description\")[0]\n",
    "    with open(about_project_filepath, \"r\") as about_file:\n",
    "        about_project = about_file.read().replace(\"tool\", \"project\")\n",
    "    agent_description = f\"{tool_short_desc.capitalize()}\\n\\n <AboutProject>{about_project.capitalize()}</AboutProject>\"\n",
    "    tools[agent_name] = create_project_agent(agent_name, agent_description)\n",
    "    embedd_all_files(project_path, agent_name)\n",
    "\n",
    "AvailableTools = {tool.name: tool for tool in tools}\n",
    "toolDoc = [\n",
    "    Document(\n",
    "        page_content=f\"Tool Name: {tool.name}\\n\\nTool Description:\\n{tool.description}\",\n",
    "        metadata={\"func_name\": tool.name},\n",
    "    )\n",
    "    for tool in tools\n",
    "]\n",
    "vector_store_from_client.add_documents(documents=toolDoc)"
   ]
  },
  {
   "cell_type": "code",
   "execution_count": 7,
   "metadata": {},
   "outputs": [
    {
     "data": {
      "text/html": [
       "<pre style=\"white-space:pre;overflow-x:auto;line-height:normal;font-family:Menlo,'DejaVu Sans Mono',consolas,'Courier New',monospace\"><span style=\"color: #808000; text-decoration-color: #808000\">agent_name</span>=<span style=\"color: #008000; text-decoration-color: #008000\">'auto_dictionary_database_creator_tool_project_agent'</span>\n",
       "<span style=\"color: #808000; text-decoration-color: #808000\">query</span>=<span style=\"color: #008000; text-decoration-color: #008000\">'Hii'</span>\n",
       "<span style=\"color: #808000; text-decoration-color: #808000\">resp</span>=<span style=\"color: #008000; text-decoration-color: #008000\">'yes'</span>\n",
       "</pre>\n"
      ],
      "text/plain": [
       "\u001b[33magent_name\u001b[0m=\u001b[32m'auto_dictionary_database_creator_tool_project_agent'\u001b[0m\n",
       "\u001b[33mquery\u001b[0m=\u001b[32m'Hii'\u001b[0m\n",
       "\u001b[33mresp\u001b[0m=\u001b[32m'yes'\u001b[0m\n"
      ]
     },
     "metadata": {},
     "output_type": "display_data"
    },
    {
     "data": {
      "text/html": [
       "<pre style=\"white-space:pre;overflow-x:auto;line-height:normal;font-family:Menlo,'DejaVu Sans Mono',consolas,'Courier New',monospace\"><span style=\"color: #808000; text-decoration-color: #808000\">agent_name</span>=<span style=\"color: #008000; text-decoration-color: #008000\">'plant_monitoring_system_project_agent'</span>\n",
       "<span style=\"color: #808000; text-decoration-color: #808000\">query</span>=<span style=\"color: #008000; text-decoration-color: #008000\">'Hii'</span>\n",
       "<span style=\"color: #808000; text-decoration-color: #808000\">resp</span>=<span style=\"color: #008000; text-decoration-color: #008000\">'no'</span>\n",
       "</pre>\n"
      ],
      "text/plain": [
       "\u001b[33magent_name\u001b[0m=\u001b[32m'plant_monitoring_system_project_agent'\u001b[0m\n",
       "\u001b[33mquery\u001b[0m=\u001b[32m'Hii'\u001b[0m\n",
       "\u001b[33mresp\u001b[0m=\u001b[32m'no'\u001b[0m\n"
      ]
     },
     "metadata": {},
     "output_type": "display_data"
    }
   ],
   "source": [
    "for tool in tools:\n",
    "    resp = tool.invoke(\"Hii\")"
   ]
  },
  {
   "cell_type": "code",
   "execution_count": 8,
   "metadata": {},
   "outputs": [
    {
     "name": "stderr",
     "output_type": "stream",
     "text": [
      "C:\\Users\\roshan.yadav\\AppData\\Local\\Temp\\ipykernel_2956\\600197521.py:1: LangChainDeprecationWarning: The method `BaseTool.__call__` was deprecated in langchain-core 0.1.47 and will be removed in 1.0. Use :meth:`~invoke` instead.\n",
      "  @tool\n"
     ]
    },
    {
     "ename": "ValidationError",
     "evalue": "1 validation error for ProjectAgentInput\n  Input should be a valid dictionary or instance of ProjectAgentInput [type=model_type, input_value=<function project_hub_agent at 0x000001E85167C5E0>, input_type=function]\n    For further information visit https://errors.pydantic.dev/2.9/v/model_type",
     "output_type": "error",
     "traceback": [
      "\u001b[1;31m---------------------------------------------------------------------------\u001b[0m",
      "\u001b[1;31mValidationError\u001b[0m                           Traceback (most recent call last)",
      "Cell \u001b[1;32mIn[8], line 1\u001b[0m\n\u001b[1;32m----> 1\u001b[0m \u001b[38;5;129;43m@tool\u001b[39;49m\n\u001b[0;32m      2\u001b[0m \u001b[38;5;28;43;01mdef\u001b[39;49;00m\u001b[43m \u001b[49m\u001b[38;5;21;43mproject_hub_agent\u001b[39;49m\u001b[43m(\u001b[49m\u001b[43mquery\u001b[49m\u001b[43m:\u001b[49m\u001b[43m \u001b[49m\u001b[38;5;28;43mstr\u001b[39;49m\u001b[43m)\u001b[49m\u001b[43m:\u001b[49m\n\u001b[0;32m      3\u001b[0m \u001b[43m    \u001b[49m\u001b[43mprompt\u001b[49m\u001b[43m \u001b[49m\u001b[38;5;241;43m=\u001b[39;49m\u001b[43m \u001b[49m\u001b[43mChatPromptTemplate\u001b[49m\u001b[43m(\u001b[49m\n\u001b[0;32m      4\u001b[0m \u001b[43m        \u001b[49m\u001b[43m[\u001b[49m\n\u001b[0;32m      5\u001b[0m \u001b[43m            \u001b[49m\u001b[43mSystemMessage\u001b[49m\u001b[43m(\u001b[49m\n\u001b[1;32m   (...)\u001b[0m\n\u001b[0;32m     11\u001b[0m \u001b[43m        \u001b[49m\u001b[43m]\u001b[49m\n\u001b[0;32m     12\u001b[0m \u001b[43m    \u001b[49m\u001b[43m)\u001b[49m\n",
      "File \u001b[1;32mc:\\Users\\roshan.yadav\\AppData\\Local\\anaconda3\\envs\\rag\\Lib\\site-packages\\langchain_core\\_api\\deprecation.py:182\u001b[0m, in \u001b[0;36mdeprecated.<locals>.deprecate.<locals>.warning_emitting_wrapper\u001b[1;34m(*args, **kwargs)\u001b[0m\n\u001b[0;32m    180\u001b[0m     warned \u001b[38;5;241m=\u001b[39m \u001b[38;5;28;01mTrue\u001b[39;00m\n\u001b[0;32m    181\u001b[0m     emit_warning()\n\u001b[1;32m--> 182\u001b[0m \u001b[38;5;28;01mreturn\u001b[39;00m \u001b[43mwrapped\u001b[49m\u001b[43m(\u001b[49m\u001b[38;5;241;43m*\u001b[39;49m\u001b[43margs\u001b[49m\u001b[43m,\u001b[49m\u001b[43m \u001b[49m\u001b[38;5;241;43m*\u001b[39;49m\u001b[38;5;241;43m*\u001b[39;49m\u001b[43mkwargs\u001b[49m\u001b[43m)\u001b[49m\n",
      "File \u001b[1;32mc:\\Users\\roshan.yadav\\AppData\\Local\\anaconda3\\envs\\rag\\Lib\\site-packages\\langchain_core\\tools\\base.py:851\u001b[0m, in \u001b[0;36mBaseTool.__call__\u001b[1;34m(self, tool_input, callbacks)\u001b[0m\n\u001b[0;32m    848\u001b[0m \u001b[38;5;129m@deprecated\u001b[39m(\u001b[38;5;124m\"\u001b[39m\u001b[38;5;124m0.1.47\u001b[39m\u001b[38;5;124m\"\u001b[39m, alternative\u001b[38;5;241m=\u001b[39m\u001b[38;5;124m\"\u001b[39m\u001b[38;5;124minvoke\u001b[39m\u001b[38;5;124m\"\u001b[39m, removal\u001b[38;5;241m=\u001b[39m\u001b[38;5;124m\"\u001b[39m\u001b[38;5;124m1.0\u001b[39m\u001b[38;5;124m\"\u001b[39m)\n\u001b[0;32m    849\u001b[0m \u001b[38;5;28;01mdef\u001b[39;00m \u001b[38;5;21m__call__\u001b[39m(\u001b[38;5;28mself\u001b[39m, tool_input: \u001b[38;5;28mstr\u001b[39m, callbacks: Callbacks \u001b[38;5;241m=\u001b[39m \u001b[38;5;28;01mNone\u001b[39;00m) \u001b[38;5;241m-\u001b[39m\u001b[38;5;241m>\u001b[39m \u001b[38;5;28mstr\u001b[39m:\n\u001b[0;32m    850\u001b[0m \u001b[38;5;250m    \u001b[39m\u001b[38;5;124;03m\"\"\"Make tool callable.\"\"\"\u001b[39;00m\n\u001b[1;32m--> 851\u001b[0m     \u001b[38;5;28;01mreturn\u001b[39;00m \u001b[38;5;28;43mself\u001b[39;49m\u001b[38;5;241;43m.\u001b[39;49m\u001b[43mrun\u001b[49m\u001b[43m(\u001b[49m\u001b[43mtool_input\u001b[49m\u001b[43m,\u001b[49m\u001b[43m \u001b[49m\u001b[43mcallbacks\u001b[49m\u001b[38;5;241;43m=\u001b[39;49m\u001b[43mcallbacks\u001b[49m\u001b[43m)\u001b[49m\n",
      "File \u001b[1;32mc:\\Users\\roshan.yadav\\AppData\\Local\\anaconda3\\envs\\rag\\Lib\\site-packages\\langchain_core\\tools\\base.py:725\u001b[0m, in \u001b[0;36mBaseTool.run\u001b[1;34m(self, tool_input, verbose, start_color, color, callbacks, tags, metadata, run_name, run_id, config, tool_call_id, **kwargs)\u001b[0m\n\u001b[0;32m    723\u001b[0m \u001b[38;5;28;01mif\u001b[39;00m error_to_raise:\n\u001b[0;32m    724\u001b[0m     run_manager\u001b[38;5;241m.\u001b[39mon_tool_error(error_to_raise)\n\u001b[1;32m--> 725\u001b[0m     \u001b[38;5;28;01mraise\u001b[39;00m error_to_raise\n\u001b[0;32m    726\u001b[0m output \u001b[38;5;241m=\u001b[39m _format_output(content, artifact, tool_call_id, \u001b[38;5;28mself\u001b[39m\u001b[38;5;241m.\u001b[39mname, status)\n\u001b[0;32m    727\u001b[0m run_manager\u001b[38;5;241m.\u001b[39mon_tool_end(output, color\u001b[38;5;241m=\u001b[39mcolor, name\u001b[38;5;241m=\u001b[39m\u001b[38;5;28mself\u001b[39m\u001b[38;5;241m.\u001b[39mname, \u001b[38;5;241m*\u001b[39m\u001b[38;5;241m*\u001b[39mkwargs)\n",
      "File \u001b[1;32mc:\\Users\\roshan.yadav\\AppData\\Local\\anaconda3\\envs\\rag\\Lib\\site-packages\\langchain_core\\tools\\base.py:688\u001b[0m, in \u001b[0;36mBaseTool.run\u001b[1;34m(self, tool_input, verbose, start_color, color, callbacks, tags, metadata, run_name, run_id, config, tool_call_id, **kwargs)\u001b[0m\n\u001b[0;32m    686\u001b[0m context \u001b[38;5;241m=\u001b[39m copy_context()\n\u001b[0;32m    687\u001b[0m context\u001b[38;5;241m.\u001b[39mrun(_set_config_context, child_config)\n\u001b[1;32m--> 688\u001b[0m tool_args, tool_kwargs \u001b[38;5;241m=\u001b[39m \u001b[38;5;28;43mself\u001b[39;49m\u001b[38;5;241;43m.\u001b[39;49m\u001b[43m_to_args_and_kwargs\u001b[49m\u001b[43m(\u001b[49m\u001b[43mtool_input\u001b[49m\u001b[43m,\u001b[49m\u001b[43m \u001b[49m\u001b[43mtool_call_id\u001b[49m\u001b[43m)\u001b[49m\n\u001b[0;32m    689\u001b[0m \u001b[38;5;28;01mif\u001b[39;00m signature(\u001b[38;5;28mself\u001b[39m\u001b[38;5;241m.\u001b[39m_run)\u001b[38;5;241m.\u001b[39mparameters\u001b[38;5;241m.\u001b[39mget(\u001b[38;5;124m\"\u001b[39m\u001b[38;5;124mrun_manager\u001b[39m\u001b[38;5;124m\"\u001b[39m):\n\u001b[0;32m    690\u001b[0m     tool_kwargs \u001b[38;5;241m=\u001b[39m tool_kwargs \u001b[38;5;241m|\u001b[39m {\u001b[38;5;124m\"\u001b[39m\u001b[38;5;124mrun_manager\u001b[39m\u001b[38;5;124m\"\u001b[39m: run_manager}\n",
      "File \u001b[1;32mc:\\Users\\roshan.yadav\\AppData\\Local\\anaconda3\\envs\\rag\\Lib\\site-packages\\langchain_core\\tools\\base.py:611\u001b[0m, in \u001b[0;36mBaseTool._to_args_and_kwargs\u001b[1;34m(self, tool_input, tool_call_id)\u001b[0m\n\u001b[0;32m    608\u001b[0m \u001b[38;5;28;01mif\u001b[39;00m \u001b[38;5;28mself\u001b[39m\u001b[38;5;241m.\u001b[39margs_schema \u001b[38;5;129;01mis\u001b[39;00m \u001b[38;5;129;01mnot\u001b[39;00m \u001b[38;5;28;01mNone\u001b[39;00m \u001b[38;5;129;01mand\u001b[39;00m \u001b[38;5;129;01mnot\u001b[39;00m get_fields(\u001b[38;5;28mself\u001b[39m\u001b[38;5;241m.\u001b[39margs_schema):\n\u001b[0;32m    609\u001b[0m     \u001b[38;5;66;03m# StructuredTool with no args\u001b[39;00m\n\u001b[0;32m    610\u001b[0m     \u001b[38;5;28;01mreturn\u001b[39;00m (), {}\n\u001b[1;32m--> 611\u001b[0m tool_input \u001b[38;5;241m=\u001b[39m \u001b[38;5;28;43mself\u001b[39;49m\u001b[38;5;241;43m.\u001b[39;49m\u001b[43m_parse_input\u001b[49m\u001b[43m(\u001b[49m\u001b[43mtool_input\u001b[49m\u001b[43m,\u001b[49m\u001b[43m \u001b[49m\u001b[43mtool_call_id\u001b[49m\u001b[43m)\u001b[49m\n\u001b[0;32m    612\u001b[0m \u001b[38;5;66;03m# For backwards compatibility, if run_input is a string,\u001b[39;00m\n\u001b[0;32m    613\u001b[0m \u001b[38;5;66;03m# pass as a positional argument.\u001b[39;00m\n\u001b[0;32m    614\u001b[0m \u001b[38;5;28;01mif\u001b[39;00m \u001b[38;5;28misinstance\u001b[39m(tool_input, \u001b[38;5;28mstr\u001b[39m):\n",
      "File \u001b[1;32mc:\\Users\\roshan.yadav\\AppData\\Local\\anaconda3\\envs\\rag\\Lib\\site-packages\\langchain_core\\tools\\base.py:532\u001b[0m, in \u001b[0;36mBaseTool._parse_input\u001b[1;34m(self, tool_input, tool_call_id)\u001b[0m\n\u001b[0;32m    530\u001b[0m                 \u001b[38;5;28;01mraise\u001b[39;00m \u001b[38;5;167;01mValueError\u001b[39;00m(msg)\n\u001b[0;32m    531\u001b[0m             tool_input[k] \u001b[38;5;241m=\u001b[39m tool_call_id\n\u001b[1;32m--> 532\u001b[0m     result \u001b[38;5;241m=\u001b[39m \u001b[43minput_args\u001b[49m\u001b[38;5;241;43m.\u001b[39;49m\u001b[43mmodel_validate\u001b[49m\u001b[43m(\u001b[49m\u001b[43mtool_input\u001b[49m\u001b[43m)\u001b[49m\n\u001b[0;32m    533\u001b[0m     result_dict \u001b[38;5;241m=\u001b[39m result\u001b[38;5;241m.\u001b[39mmodel_dump()\n\u001b[0;32m    534\u001b[0m \u001b[38;5;28;01melif\u001b[39;00m \u001b[38;5;28missubclass\u001b[39m(input_args, BaseModelV1):\n",
      "File \u001b[1;32mc:\\Users\\roshan.yadav\\AppData\\Local\\anaconda3\\envs\\rag\\Lib\\site-packages\\pydantic\\main.py:596\u001b[0m, in \u001b[0;36mBaseModel.model_validate\u001b[1;34m(cls, obj, strict, from_attributes, context)\u001b[0m\n\u001b[0;32m    594\u001b[0m \u001b[38;5;66;03m# `__tracebackhide__` tells pytest and some other tools to omit this function from tracebacks\u001b[39;00m\n\u001b[0;32m    595\u001b[0m __tracebackhide__ \u001b[38;5;241m=\u001b[39m \u001b[38;5;28;01mTrue\u001b[39;00m\n\u001b[1;32m--> 596\u001b[0m \u001b[38;5;28;01mreturn\u001b[39;00m \u001b[38;5;28;43mcls\u001b[39;49m\u001b[38;5;241;43m.\u001b[39;49m\u001b[43m__pydantic_validator__\u001b[49m\u001b[38;5;241;43m.\u001b[39;49m\u001b[43mvalidate_python\u001b[49m\u001b[43m(\u001b[49m\n\u001b[0;32m    597\u001b[0m \u001b[43m    \u001b[49m\u001b[43mobj\u001b[49m\u001b[43m,\u001b[49m\u001b[43m \u001b[49m\u001b[43mstrict\u001b[49m\u001b[38;5;241;43m=\u001b[39;49m\u001b[43mstrict\u001b[49m\u001b[43m,\u001b[49m\u001b[43m \u001b[49m\u001b[43mfrom_attributes\u001b[49m\u001b[38;5;241;43m=\u001b[39;49m\u001b[43mfrom_attributes\u001b[49m\u001b[43m,\u001b[49m\u001b[43m \u001b[49m\u001b[43mcontext\u001b[49m\u001b[38;5;241;43m=\u001b[39;49m\u001b[43mcontext\u001b[49m\n\u001b[0;32m    598\u001b[0m \u001b[43m\u001b[49m\u001b[43m)\u001b[49m\n",
      "\u001b[1;31mValidationError\u001b[0m: 1 validation error for ProjectAgentInput\n  Input should be a valid dictionary or instance of ProjectAgentInput [type=model_type, input_value=<function project_hub_agent at 0x000001E85167C5E0>, input_type=function]\n    For further information visit https://errors.pydantic.dev/2.9/v/model_type"
     ]
    }
   ],
   "source": [
    "@tool\n",
    "def project_hub_agent(query: str):\n",
    "    prompt = ChatPromptTemplate(\n",
    "        [\n",
    "            SystemMessage(\n",
    "                content=\"You are ProjectHub, an assistant that knows all of Roshan Yadav's projects, helping to describe, manage, debug, and enhance them while providing technical and communication support.\"\n",
    "            ),\n",
    "            HumanMessage(\n",
    "                content=\"Could you please list all the projects I have developed?\"\n",
    "            ),\n",
    "        ]\n",
    "    )"
   ]
  },
  {
   "cell_type": "code",
   "execution_count": null,
   "metadata": {},
   "outputs": [],
   "source": [
    "prompt = ChatPromptTemplate(\n",
    "    [\n",
    "        SystemMessage(\n",
    "            content=\"You are ProjectHub, an assistant that knows all of Roshan Yadav's projects, helping to describe, manage, debug, and enhance them while providing technical and communication support.\"\n",
    "        ),\n",
    "        HumanMessage(\n",
    "            content=\"Could you please list all the projects I have developed? i not need \"\n",
    "        ),\n",
    "    ]\n",
    ")"
   ]
  }
 ],
 "metadata": {
  "kernelspec": {
   "display_name": "rag",
   "language": "python",
   "name": "python3"
  },
  "language_info": {
   "codemirror_mode": {
    "name": "ipython",
    "version": 3
   },
   "file_extension": ".py",
   "mimetype": "text/x-python",
   "name": "python",
   "nbconvert_exporter": "python",
   "pygments_lexer": "ipython3",
   "version": "3.11.10"
  }
 },
 "nbformat": 4,
 "nbformat_minor": 2
}
